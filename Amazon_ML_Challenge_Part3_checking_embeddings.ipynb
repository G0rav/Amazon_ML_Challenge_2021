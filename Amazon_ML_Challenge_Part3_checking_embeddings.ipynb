{
  "nbformat": 4,
  "nbformat_minor": 0,
  "metadata": {
    "colab": {
      "name": "Amazon_ML_Challenge_Part3_checking_embeddings.ipynb",
      "provenance": [],
      "collapsed_sections": [
        "GbnMWQB2wTVP",
        "FxIAw-MdzpiM",
        "reU0FDmi4LgZ",
        "kY2PjrVezs7a"
      ],
      "mount_file_id": "1dHh3LOtAbkFpSagxn1RjNNRc1vs_zAuC",
      "authorship_tag": "ABX9TyOpXyffFXTlE2uS5vQOpvR9"
    },
    "kernelspec": {
      "name": "python3",
      "display_name": "Python 3"
    },
    "language_info": {
      "name": "python"
    }
  },
  "cells": [
    {
      "cell_type": "code",
      "metadata": {
        "colab": {
          "base_uri": "https://localhost:8080/"
        },
        "id": "sqDVa7kKg5k6",
        "outputId": "edd2a544-aecc-47fa-ee92-2276b634513c"
      },
      "source": [
        "from google.colab import drive\n",
        "drive.mount('/content/drive')"
      ],
      "execution_count": null,
      "outputs": [
        {
          "output_type": "stream",
          "text": [
            "Drive already mounted at /content/drive; to attempt to forcibly remount, call drive.mount(\"/content/drive\", force_remount=True).\n"
          ],
          "name": "stdout"
        }
      ]
    },
    {
      "cell_type": "markdown",
      "metadata": {
        "id": "GbnMWQB2wTVP"
      },
      "source": [
        "#Loading Data"
      ]
    },
    {
      "cell_type": "code",
      "metadata": {
        "id": "23G0p1jWs8Fo"
      },
      "source": [
        "import re\n",
        "import numpy as np\n",
        "import pandas as pd\n",
        "import matplotlib.pyplot as plt\n",
        "import seaborn as sns\n",
        "import nltk\n",
        "from nltk.corpus import stopwords\n",
        "\n",
        "from tqdm import tqdm\n",
        "from tqdm.notebook import tqdm_notebook"
      ],
      "execution_count": null,
      "outputs": []
    },
    {
      "cell_type": "code",
      "metadata": {
        "id": "fR5svZ32vbCC"
      },
      "source": [
        "train5 = pd.read_csv('/content/drive/MyDrive/Datasets/Amazon_ML_Challenge/Dataset/train_clean5L.csv')\n",
        "train10 = pd.read_csv('/content/drive/MyDrive/Datasets/Amazon_ML_Challenge/Dataset/train_clean10L.csv')\n",
        "train15 = pd.read_csv('/content/drive/MyDrive/Datasets/Amazon_ML_Challenge/Dataset/train_clean15L.csv')\n",
        "train20 = pd.read_csv('/content/drive/MyDrive/Datasets/Amazon_ML_Challenge/Dataset/train_clean20L.csv')\n",
        "train25 = pd.read_csv('/content/drive/MyDrive/Datasets/Amazon_ML_Challenge/Dataset/train_clean25L.csv')\n",
        "trainlast = pd.read_csv('/content/drive/MyDrive/Datasets/Amazon_ML_Challenge/Dataset/train_clean_Last.csv')\n"
      ],
      "execution_count": null,
      "outputs": []
    },
    {
      "cell_type": "code",
      "metadata": {
        "id": "jy5XIq7Q075F"
      },
      "source": [
        "test = pd.read_csv('/content/drive/MyDrive/Datasets/Amazon_ML_Challenge/Dataset/test_clean.csv')"
      ],
      "execution_count": null,
      "outputs": []
    },
    {
      "cell_type": "code",
      "metadata": {
        "colab": {
          "base_uri": "https://localhost:8080/"
        },
        "id": "XbIkyCovjUE3",
        "outputId": "f7ec4c02-0890-474c-ff37-f3bbd2af8b6c"
      },
      "source": [
        "test.isnull().sum()"
      ],
      "execution_count": null,
      "outputs": [
        {
          "output_type": "execute_result",
          "data": {
            "text/plain": [
              "PRODUCT_ID    0\n",
              "TEXT          0\n",
              "dtype: int64"
            ]
          },
          "metadata": {
            "tags": []
          },
          "execution_count": 11
        }
      ]
    },
    {
      "cell_type": "code",
      "metadata": {
        "id": "AIl1gwKZvbEo"
      },
      "source": [
        "data = [train5,train10,train15,train20,train25,trainlast]\n",
        "names = ['train5','train10','train15','train20','train25','trainlast']"
      ],
      "execution_count": null,
      "outputs": []
    },
    {
      "cell_type": "markdown",
      "metadata": {
        "id": "FxIAw-MdzpiM"
      },
      "source": [
        "# Checking Data and Handling Null Values"
      ]
    },
    {
      "cell_type": "code",
      "metadata": {
        "colab": {
          "base_uri": "https://localhost:8080/",
          "height": 1000
        },
        "id": "c2Xzyuh-vbGt",
        "outputId": "86795486-3567-416c-dd31-daab01365919"
      },
      "source": [
        "for df,name in zip(data, names):\n",
        "  print(name)\n",
        "  display(df.info())\n",
        "  print()"
      ],
      "execution_count": null,
      "outputs": [
        {
          "output_type": "stream",
          "text": [
            "train5\n",
            "<class 'pandas.core.frame.DataFrame'>\n",
            "RangeIndex: 494187 entries, 0 to 494186\n",
            "Data columns (total 2 columns):\n",
            " #   Column          Non-Null Count   Dtype \n",
            "---  ------          --------------   ----- \n",
            " 0   BROWSE_NODE_ID  494187 non-null  int64 \n",
            " 1   TEXT            494171 non-null  object\n",
            "dtypes: int64(1), object(1)\n",
            "memory usage: 7.5+ MB\n"
          ],
          "name": "stdout"
        },
        {
          "output_type": "display_data",
          "data": {
            "text/plain": [
              "None"
            ]
          },
          "metadata": {
            "tags": []
          }
        },
        {
          "output_type": "stream",
          "text": [
            "\n",
            "train10\n",
            "<class 'pandas.core.frame.DataFrame'>\n",
            "RangeIndex: 493974 entries, 0 to 493973\n",
            "Data columns (total 2 columns):\n",
            " #   Column          Non-Null Count   Dtype \n",
            "---  ------          --------------   ----- \n",
            " 0   BROWSE_NODE_ID  493974 non-null  int64 \n",
            " 1   TEXT            493964 non-null  object\n",
            "dtypes: int64(1), object(1)\n",
            "memory usage: 7.5+ MB\n"
          ],
          "name": "stdout"
        },
        {
          "output_type": "display_data",
          "data": {
            "text/plain": [
              "None"
            ]
          },
          "metadata": {
            "tags": []
          }
        },
        {
          "output_type": "stream",
          "text": [
            "\n",
            "train15\n",
            "<class 'pandas.core.frame.DataFrame'>\n",
            "RangeIndex: 494042 entries, 0 to 494041\n",
            "Data columns (total 2 columns):\n",
            " #   Column          Non-Null Count   Dtype \n",
            "---  ------          --------------   ----- \n",
            " 0   BROWSE_NODE_ID  494042 non-null  int64 \n",
            " 1   TEXT            494025 non-null  object\n",
            "dtypes: int64(1), object(1)\n",
            "memory usage: 7.5+ MB\n"
          ],
          "name": "stdout"
        },
        {
          "output_type": "display_data",
          "data": {
            "text/plain": [
              "None"
            ]
          },
          "metadata": {
            "tags": []
          }
        },
        {
          "output_type": "stream",
          "text": [
            "\n",
            "train20\n",
            "<class 'pandas.core.frame.DataFrame'>\n",
            "RangeIndex: 494042 entries, 0 to 494041\n",
            "Data columns (total 2 columns):\n",
            " #   Column          Non-Null Count   Dtype \n",
            "---  ------          --------------   ----- \n",
            " 0   BROWSE_NODE_ID  494042 non-null  int64 \n",
            " 1   TEXT            494029 non-null  object\n",
            "dtypes: int64(1), object(1)\n",
            "memory usage: 7.5+ MB\n"
          ],
          "name": "stdout"
        },
        {
          "output_type": "display_data",
          "data": {
            "text/plain": [
              "None"
            ]
          },
          "metadata": {
            "tags": []
          }
        },
        {
          "output_type": "stream",
          "text": [
            "\n",
            "train25\n",
            "<class 'pandas.core.frame.DataFrame'>\n",
            "RangeIndex: 493957 entries, 0 to 493956\n",
            "Data columns (total 2 columns):\n",
            " #   Column          Non-Null Count   Dtype \n",
            "---  ------          --------------   ----- \n",
            " 0   BROWSE_NODE_ID  493957 non-null  int64 \n",
            " 1   TEXT            493944 non-null  object\n",
            "dtypes: int64(1), object(1)\n",
            "memory usage: 7.5+ MB\n"
          ],
          "name": "stdout"
        },
        {
          "output_type": "display_data",
          "data": {
            "text/plain": [
              "None"
            ]
          },
          "metadata": {
            "tags": []
          }
        },
        {
          "output_type": "stream",
          "text": [
            "\n",
            "trainlast\n",
            "<class 'pandas.core.frame.DataFrame'>\n",
            "RangeIndex: 398771 entries, 0 to 398770\n",
            "Data columns (total 2 columns):\n",
            " #   Column          Non-Null Count   Dtype \n",
            "---  ------          --------------   ----- \n",
            " 0   BROWSE_NODE_ID  398771 non-null  int64 \n",
            " 1   TEXT            398764 non-null  object\n",
            "dtypes: int64(1), object(1)\n",
            "memory usage: 6.1+ MB\n"
          ],
          "name": "stdout"
        },
        {
          "output_type": "display_data",
          "data": {
            "text/plain": [
              "None"
            ]
          },
          "metadata": {
            "tags": []
          }
        },
        {
          "output_type": "stream",
          "text": [
            "\n"
          ],
          "name": "stdout"
        }
      ]
    },
    {
      "cell_type": "code",
      "metadata": {
        "colab": {
          "base_uri": "https://localhost:8080/",
          "height": 550
        },
        "id": "br6m7h4ivbJC",
        "outputId": "bea8d7bc-a0ea-470a-99c4-a1064cc7d0e9"
      },
      "source": [
        "for df,name in zip(data, names):\n",
        "  print(name)\n",
        "  display(df.isnull().sum())\n",
        "  print()"
      ],
      "execution_count": null,
      "outputs": [
        {
          "output_type": "stream",
          "text": [
            "train5\n"
          ],
          "name": "stdout"
        },
        {
          "output_type": "display_data",
          "data": {
            "text/plain": [
              "BROWSE_NODE_ID     0\n",
              "TEXT              16\n",
              "dtype: int64"
            ]
          },
          "metadata": {
            "tags": []
          }
        },
        {
          "output_type": "stream",
          "text": [
            "\n",
            "train10\n"
          ],
          "name": "stdout"
        },
        {
          "output_type": "display_data",
          "data": {
            "text/plain": [
              "BROWSE_NODE_ID     0\n",
              "TEXT              10\n",
              "dtype: int64"
            ]
          },
          "metadata": {
            "tags": []
          }
        },
        {
          "output_type": "stream",
          "text": [
            "\n",
            "train15\n"
          ],
          "name": "stdout"
        },
        {
          "output_type": "display_data",
          "data": {
            "text/plain": [
              "BROWSE_NODE_ID     0\n",
              "TEXT              17\n",
              "dtype: int64"
            ]
          },
          "metadata": {
            "tags": []
          }
        },
        {
          "output_type": "stream",
          "text": [
            "\n",
            "train20\n"
          ],
          "name": "stdout"
        },
        {
          "output_type": "display_data",
          "data": {
            "text/plain": [
              "BROWSE_NODE_ID     0\n",
              "TEXT              13\n",
              "dtype: int64"
            ]
          },
          "metadata": {
            "tags": []
          }
        },
        {
          "output_type": "stream",
          "text": [
            "\n",
            "train25\n"
          ],
          "name": "stdout"
        },
        {
          "output_type": "display_data",
          "data": {
            "text/plain": [
              "BROWSE_NODE_ID     0\n",
              "TEXT              13\n",
              "dtype: int64"
            ]
          },
          "metadata": {
            "tags": []
          }
        },
        {
          "output_type": "stream",
          "text": [
            "\n",
            "trainlast\n"
          ],
          "name": "stdout"
        },
        {
          "output_type": "display_data",
          "data": {
            "text/plain": [
              "BROWSE_NODE_ID    0\n",
              "TEXT              7\n",
              "dtype: int64"
            ]
          },
          "metadata": {
            "tags": []
          }
        },
        {
          "output_type": "stream",
          "text": [
            "\n"
          ],
          "name": "stdout"
        }
      ]
    },
    {
      "cell_type": "code",
      "metadata": {
        "id": "HJFliXNW0cVd",
        "colab": {
          "base_uri": "https://localhost:8080/"
        },
        "outputId": "0d40045a-4006-468e-dff8-c06bb1fb176c"
      },
      "source": [
        "for df,name in zip(data, names):\n",
        "  print(name)\n",
        "  df.dropna(inplace=True)"
      ],
      "execution_count": null,
      "outputs": [
        {
          "output_type": "stream",
          "text": [
            "train5\n",
            "train10\n",
            "train15\n",
            "train20\n",
            "train25\n",
            "trainlast\n"
          ],
          "name": "stdout"
        }
      ]
    },
    {
      "cell_type": "markdown",
      "metadata": {
        "id": "reU0FDmi4LgZ"
      },
      "source": [
        "#Corpus"
      ]
    },
    {
      "cell_type": "code",
      "metadata": {
        "id": "rjGikHa-QbBW"
      },
      "source": [
        "def build_vocab(sentences):\n",
        "  word_freq = {}\n",
        "  for row in tqdm(sentences):\n",
        "      for word in row.split():\n",
        "        if len(word)>2:\n",
        "          try:\n",
        "            word_freq[word] += 1\n",
        "          except:\n",
        "            word_freq[word] = 1\n",
        "  \n",
        "  print(\"Total words found:\",len(word_freq))\n",
        "  return word_freq"
      ],
      "execution_count": null,
      "outputs": []
    },
    {
      "cell_type": "code",
      "metadata": {
        "colab": {
          "base_uri": "https://localhost:8080/"
        },
        "id": "Wolkhw5U14qP",
        "outputId": "ceccb479-886d-4172-c571-880cc3ceb402"
      },
      "source": [
        "train_vocab = {}\n",
        "for df,name in zip(data, names):\n",
        "  print(name)\n",
        "  vocab = build_vocab(df['TEXT'])\n",
        "  train_vocab.update(vocab)\n",
        "  print()\n",
        "\n",
        "print(len(train_vocab))"
      ],
      "execution_count": null,
      "outputs": [
        {
          "output_type": "stream",
          "text": [
            "  1%|          | 3861/494171 [00:00<00:12, 38602.95it/s]"
          ],
          "name": "stderr"
        },
        {
          "output_type": "stream",
          "text": [
            "train5\n"
          ],
          "name": "stdout"
        },
        {
          "output_type": "stream",
          "text": [
            "100%|██████████| 494171/494171 [00:19<00:00, 25376.14it/s]\n",
            "  1%|          | 2781/493964 [00:00<00:17, 27809.83it/s]"
          ],
          "name": "stderr"
        },
        {
          "output_type": "stream",
          "text": [
            "Total words found: 259805\n",
            "\n",
            "train10\n"
          ],
          "name": "stdout"
        },
        {
          "output_type": "stream",
          "text": [
            "100%|██████████| 493964/493964 [00:18<00:00, 26415.82it/s]\n",
            "  1%|          | 2742/494025 [00:00<00:17, 27415.65it/s]"
          ],
          "name": "stderr"
        },
        {
          "output_type": "stream",
          "text": [
            "Total words found: 259801\n",
            "\n",
            "train15\n"
          ],
          "name": "stdout"
        },
        {
          "output_type": "stream",
          "text": [
            "100%|██████████| 494025/494025 [00:19<00:00, 25531.34it/s]\n",
            "  1%|          | 2639/494029 [00:00<00:18, 26383.17it/s]"
          ],
          "name": "stderr"
        },
        {
          "output_type": "stream",
          "text": [
            "Total words found: 259509\n",
            "\n",
            "train20\n"
          ],
          "name": "stdout"
        },
        {
          "output_type": "stream",
          "text": [
            "100%|██████████| 494029/494029 [00:19<00:00, 25993.93it/s]\n",
            "  1%|          | 2476/493944 [00:00<00:19, 24750.58it/s]"
          ],
          "name": "stderr"
        },
        {
          "output_type": "stream",
          "text": [
            "Total words found: 259314\n",
            "\n",
            "train25\n"
          ],
          "name": "stdout"
        },
        {
          "output_type": "stream",
          "text": [
            "100%|██████████| 493944/493944 [00:19<00:00, 25765.55it/s]\n",
            "  1%|          | 3104/398764 [00:00<00:12, 31019.10it/s]"
          ],
          "name": "stderr"
        },
        {
          "output_type": "stream",
          "text": [
            "Total words found: 259352\n",
            "\n",
            "trainlast\n"
          ],
          "name": "stdout"
        },
        {
          "output_type": "stream",
          "text": [
            "100%|██████████| 398764/398764 [00:15<00:00, 25054.46it/s]\n"
          ],
          "name": "stderr"
        },
        {
          "output_type": "stream",
          "text": [
            "Total words found: 230956\n",
            "\n",
            "645742\n"
          ],
          "name": "stdout"
        }
      ]
    },
    {
      "cell_type": "code",
      "metadata": {
        "colab": {
          "base_uri": "https://localhost:8080/"
        },
        "id": "_9L7OxHFVYGx",
        "outputId": "9e9a8d5e-43e9-46cd-8a30-2827bc3d238d"
      },
      "source": [
        "test_vocab = build_vocab(test['TEXT'])"
      ],
      "execution_count": null,
      "outputs": [
        {
          "output_type": "stream",
          "text": [
            "100%|██████████| 110775/110775 [00:05<00:00, 21315.20it/s]"
          ],
          "name": "stderr"
        },
        {
          "output_type": "stream",
          "text": [
            "Total words found: 79095\n"
          ],
          "name": "stdout"
        },
        {
          "output_type": "stream",
          "text": [
            "\n"
          ],
          "name": "stderr"
        }
      ]
    },
    {
      "cell_type": "markdown",
      "metadata": {
        "id": "EDcKMS7kjQVu"
      },
      "source": [
        "#NLTK and Gensim\n",
        "\n",
        "https://radimrehurek.com/gensim/models/word2vec.html\n",
        "\n",
        "https://www.kaggle.com/pierremegret/gensim-word2vec-tutorial"
      ]
    },
    {
      "cell_type": "code",
      "metadata": {
        "id": "sykHS4r15ylE"
      },
      "source": [
        "import gensim\n",
        "import gensim.downloader\n",
        "from gensim.models import KeyedVectors"
      ],
      "execution_count": null,
      "outputs": []
    },
    {
      "cell_type": "code",
      "metadata": {
        "id": "FGzY4lyZwjwq"
      },
      "source": [
        "#list(gensim.downloader.info()['models'].keys())"
      ],
      "execution_count": null,
      "outputs": []
    },
    {
      "cell_type": "code",
      "metadata": {
        "colab": {
          "base_uri": "https://localhost:8080/"
        },
        "id": "dgwYIzubv0co",
        "outputId": "3f6cfc6e-546f-41cb-c3a5-cac8c18c0d67"
      },
      "source": [
        "#word2vec_model = gensim.downloader.load('word2vec-google-news-300') \n",
        "#word2vec_model.save_word2vec_format('/content/drive/MyDrive/Datasets/Amazon_ML_Challenge/model.bin', binary=True)"
      ],
      "execution_count": null,
      "outputs": [
        {
          "output_type": "stream",
          "text": [
            "[=================================================-] 99.8% 1660.0/1662.8MB downloaded\n"
          ],
          "name": "stdout"
        }
      ]
    },
    {
      "cell_type": "code",
      "metadata": {
        "colab": {
          "base_uri": "https://localhost:8080/"
        },
        "id": "_SfjDKr3jtHQ",
        "outputId": "4c6249cc-eb02-4ab1-e619-a5384ab3da7c"
      },
      "source": [
        "#model = KeyedVectors.load_word2vec_format('/content/drive/MyDrive/Datasets/Amazon_ML_Challenge/wordvec.bin', binary=True)\n",
        "#len(model.vocab)"
      ],
      "execution_count": null,
      "outputs": [
        {
          "output_type": "execute_result",
          "data": {
            "text/plain": [
              "3000000"
            ]
          },
          "metadata": {
            "tags": []
          },
          "execution_count": 20
        }
      ]
    },
    {
      "cell_type": "code",
      "metadata": {
        "colab": {
          "base_uri": "https://localhost:8080/"
        },
        "id": "y0cTcAZ5m9J0",
        "outputId": "b46a0b74-0435-4fa2-b0f6-cf5faf78818c"
      },
      "source": [
        "!wget https://nlp.stanford.edu/data/glove.6B.zip"
      ],
      "execution_count": null,
      "outputs": [
        {
          "output_type": "stream",
          "text": [
            "--2021-08-01 09:18:20--  https://nlp.stanford.edu/data/glove.6B.zip\n",
            "Resolving nlp.stanford.edu (nlp.stanford.edu)... 171.64.67.140\n",
            "Connecting to nlp.stanford.edu (nlp.stanford.edu)|171.64.67.140|:443... connected.\n",
            "HTTP request sent, awaiting response... 301 Moved Permanently\n",
            "Location: http://downloads.cs.stanford.edu/nlp/data/glove.6B.zip [following]\n",
            "--2021-08-01 09:18:20--  http://downloads.cs.stanford.edu/nlp/data/glove.6B.zip\n",
            "Resolving downloads.cs.stanford.edu (downloads.cs.stanford.edu)... 171.64.64.22\n",
            "Connecting to downloads.cs.stanford.edu (downloads.cs.stanford.edu)|171.64.64.22|:80... connected.\n",
            "HTTP request sent, awaiting response... 200 OK\n",
            "Length: 862182613 (822M) [application/zip]\n",
            "Saving to: ‘glove.6B.zip’\n",
            "\n",
            "glove.6B.zip        100%[===================>] 822.24M  5.09MB/s    in 2m 40s  \n",
            "\n",
            "2021-08-01 09:21:00 (5.13 MB/s) - ‘glove.6B.zip’ saved [862182613/862182613]\n",
            "\n"
          ],
          "name": "stdout"
        }
      ]
    },
    {
      "cell_type": "code",
      "metadata": {
        "colab": {
          "base_uri": "https://localhost:8080/"
        },
        "id": "1fgoMr2QnAqU",
        "outputId": "41bbe097-9bff-44a7-be8c-f58a85d8ef78"
      },
      "source": [
        "!unzip /content/glove.6B.zip"
      ],
      "execution_count": null,
      "outputs": [
        {
          "output_type": "stream",
          "text": [
            "Archive:  /content/glove.6B.zip\n",
            "  inflating: glove.6B.50d.txt        \n",
            "  inflating: glove.6B.100d.txt       \n",
            "  inflating: glove.6B.200d.txt       \n",
            "  inflating: glove.6B.300d.txt       \n"
          ],
          "name": "stdout"
        }
      ]
    },
    {
      "cell_type": "code",
      "metadata": {
        "colab": {
          "base_uri": "https://localhost:8080/"
        },
        "id": "oORBWCJ5lVaJ",
        "outputId": "f0ee56b4-983d-4646-de00-65f5b2484eaa"
      },
      "source": [
        "# load the whole embedding into memory\n",
        "glove_embeddings = dict()\n",
        "f = open('/content/glove.6B.300d.txt')\n",
        "\n",
        "for line in tqdm(f):\n",
        "    values = line.split()\n",
        "    word = values[0]\n",
        "    coefs = np.asarray(values[1:], dtype='float32')\n",
        "    glove_embeddings[word] = coefs\n",
        "\n",
        "f.close()\n",
        "print('Loaded %s word vectors.' % len(glove_embeddings))"
      ],
      "execution_count": null,
      "outputs": [
        {
          "output_type": "stream",
          "text": [
            "400000it [00:32, 12449.54it/s]"
          ],
          "name": "stderr"
        },
        {
          "output_type": "stream",
          "text": [
            "Loaded 400000 word vectors.\n"
          ],
          "name": "stdout"
        },
        {
          "output_type": "stream",
          "text": [
            "\n"
          ],
          "name": "stderr"
        }
      ]
    },
    {
      "cell_type": "code",
      "metadata": {
        "id": "quRcLXielVXX"
      },
      "source": [
        ""
      ],
      "execution_count": null,
      "outputs": []
    },
    {
      "cell_type": "code",
      "metadata": {
        "id": "ksC9hMZRlVU3"
      },
      "source": [
        ""
      ],
      "execution_count": null,
      "outputs": []
    },
    {
      "cell_type": "markdown",
      "metadata": {
        "id": "YoOcuyQLJ2xR"
      },
      "source": [
        "#checking vocab in word2vec"
      ]
    },
    {
      "cell_type": "code",
      "metadata": {
        "id": "kmwdcgKWoBys"
      },
      "source": [
        "def check_coverage(embeddings, vocab):\n",
        "  words_to_remove = {}\n",
        "  for word in tqdm(list(vocab.keys())):\n",
        "    try:\n",
        "      embeddings[word]\n",
        "    except:\n",
        "      words_to_remove[word] = 0\n",
        "\n",
        "  print(len(words_to_remove))\n",
        "  return words_to_remove"
      ],
      "execution_count": null,
      "outputs": []
    },
    {
      "cell_type": "code",
      "metadata": {
        "colab": {
          "base_uri": "https://localhost:8080/"
        },
        "id": "cKaJdN9ooXHm",
        "outputId": "1eb5b1e0-51bb-48ba-95e5-0bb69488d854"
      },
      "source": [
        "train_words_to_remove = check_coverage(glove_embeddings, train_vocab)"
      ],
      "execution_count": null,
      "outputs": [
        {
          "output_type": "stream",
          "text": [
            "100%|██████████| 645742/645742 [00:00<00:00, 813156.31it/s]\n"
          ],
          "name": "stderr"
        },
        {
          "output_type": "stream",
          "text": [
            "529959\n"
          ],
          "name": "stdout"
        }
      ]
    },
    {
      "cell_type": "code",
      "metadata": {
        "colab": {
          "base_uri": "https://localhost:8080/"
        },
        "id": "lwn72Xv9oW3u",
        "outputId": "c31e090a-6cf1-4bea-c6ac-836166de8978"
      },
      "source": [
        "test_words_to_remove = check_coverage(glove_embeddings, test_vocab)"
      ],
      "execution_count": null,
      "outputs": [
        {
          "output_type": "stream",
          "text": [
            "100%|██████████| 79095/79095 [00:00<00:00, 856332.83it/s]"
          ],
          "name": "stderr"
        },
        {
          "output_type": "stream",
          "text": [
            "40491\n"
          ],
          "name": "stdout"
        },
        {
          "output_type": "stream",
          "text": [
            "\n"
          ],
          "name": "stderr"
        }
      ]
    },
    {
      "cell_type": "code",
      "metadata": {
        "id": "Mn7A4-zU7ZL5"
      },
      "source": [
        ""
      ],
      "execution_count": null,
      "outputs": []
    },
    {
      "cell_type": "markdown",
      "metadata": {
        "id": "InSdGZ33B4tj"
      },
      "source": [
        "# Combining and exporting data"
      ]
    },
    {
      "cell_type": "code",
      "metadata": {
        "colab": {
          "base_uri": "https://localhost:8080/"
        },
        "id": "DCmcXC1TB7Qr",
        "outputId": "9979ae10-976e-40c6-e777-49e6d7773729"
      },
      "source": [
        "train = pd.concat([train5,train10,train15,train20,train25,trainlast], ignore_index=True)\n",
        "print(train.shape)"
      ],
      "execution_count": null,
      "outputs": [
        {
          "output_type": "stream",
          "text": [
            "(2868897, 2)\n"
          ],
          "name": "stdout"
        }
      ]
    },
    {
      "cell_type": "code",
      "metadata": {
        "colab": {
          "base_uri": "https://localhost:8080/",
          "height": 142
        },
        "id": "M9BgH_e-B7TP",
        "outputId": "f91d4e9c-b42f-437e-8745-55b97ed9b28b"
      },
      "source": [
        "train.head(3)"
      ],
      "execution_count": null,
      "outputs": [
        {
          "output_type": "execute_result",
          "data": {
            "text/html": [
              "<div>\n",
              "<style scoped>\n",
              "    .dataframe tbody tr th:only-of-type {\n",
              "        vertical-align: middle;\n",
              "    }\n",
              "\n",
              "    .dataframe tbody tr th {\n",
              "        vertical-align: top;\n",
              "    }\n",
              "\n",
              "    .dataframe thead th {\n",
              "        text-align: right;\n",
              "    }\n",
              "</style>\n",
              "<table border=\"1\" class=\"dataframe\">\n",
              "  <thead>\n",
              "    <tr style=\"text-align: right;\">\n",
              "      <th></th>\n",
              "      <th>BROWSE_NODE_ID</th>\n",
              "      <th>TEXT</th>\n",
              "    </tr>\n",
              "  </thead>\n",
              "  <tbody>\n",
              "    <tr>\n",
              "      <th>0</th>\n",
              "      <td>0</td>\n",
              "      <td>pete cat bedtime blue doll inch pete cat coole...</td>\n",
              "    </tr>\n",
              "    <tr>\n",
              "      <th>1</th>\n",
              "      <td>1</td>\n",
              "      <td>new yorker nyhm refrigerator magnet new yorker...</td>\n",
              "    </tr>\n",
              "    <tr>\n",
              "      <th>2</th>\n",
              "      <td>2</td>\n",
              "      <td>ultimate self sufficiency handbook complete gu...</td>\n",
              "    </tr>\n",
              "  </tbody>\n",
              "</table>\n",
              "</div>"
            ],
            "text/plain": [
              "   BROWSE_NODE_ID                                               TEXT\n",
              "0               0  pete cat bedtime blue doll inch pete cat coole...\n",
              "1               1  new yorker nyhm refrigerator magnet new yorker...\n",
              "2               2  ultimate self sufficiency handbook complete gu..."
            ]
          },
          "metadata": {
            "tags": []
          },
          "execution_count": 34
        }
      ]
    },
    {
      "cell_type": "code",
      "metadata": {
        "id": "l_7a1RfMCix0"
      },
      "source": [
        "train.to_csv('/content/drive/MyDrive/Datasets/Amazon_ML_Challenge/Dataset/train_clean.csv', index=False)"
      ],
      "execution_count": null,
      "outputs": []
    },
    {
      "cell_type": "markdown",
      "metadata": {
        "id": "kY2PjrVezs7a"
      },
      "source": [
        "# END"
      ]
    },
    {
      "cell_type": "code",
      "metadata": {
        "id": "444STyAn5RM9"
      },
      "source": [
        ""
      ],
      "execution_count": null,
      "outputs": []
    }
  ]
}