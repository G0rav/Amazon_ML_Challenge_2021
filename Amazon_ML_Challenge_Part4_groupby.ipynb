{
  "nbformat": 4,
  "nbformat_minor": 0,
  "metadata": {
    "colab": {
      "name": "Amazon_ML_Challenge_Part4_groupby.ipynb",
      "provenance": [],
      "collapsed_sections": [
        "tTBwCFLPEFMw",
        "jC7Ozq-0t4hd",
        "X5TB8ZDFvlPN",
        "wv-ABIMVxwKz",
        "UtL7gbB5pi8g"
      ]
    },
    "kernelspec": {
      "display_name": "Python 3",
      "name": "python3"
    },
    "language_info": {
      "name": "python"
    }
  },
  "cells": [
    {
      "cell_type": "code",
      "metadata": {
        "colab": {
          "base_uri": "https://localhost:8080/"
        },
        "id": "GHkgNfU5DcWi",
        "outputId": "41101f0d-9669-43ab-a5bd-1d358c99bdc1"
      },
      "source": [
        "from google.colab import drive\n",
        "drive.mount('/content/drive')"
      ],
      "execution_count": null,
      "outputs": [
        {
          "output_type": "stream",
          "text": [
            "Mounted at /content/drive\n"
          ],
          "name": "stdout"
        }
      ]
    },
    {
      "cell_type": "markdown",
      "metadata": {
        "id": "tTBwCFLPEFMw"
      },
      "source": [
        "# Loading Data"
      ]
    },
    {
      "cell_type": "code",
      "metadata": {
        "id": "T-1L2-9mDn0P"
      },
      "source": [
        "import re\n",
        "import os\n",
        "import numpy as np\n",
        "import pandas as pd\n",
        "import matplotlib.pyplot as plt\n",
        "import seaborn as sns\n",
        "import nltk\n",
        "from nltk.corpus import stopwords\n",
        " \n",
        "from tqdm import tqdm\n",
        "from tqdm.notebook import tqdm_notebook"
      ],
      "execution_count": null,
      "outputs": []
    },
    {
      "cell_type": "code",
      "metadata": {
        "id": "EvMVzbnUDdw4"
      },
      "source": [
        "train = pd.read_csv('/content/drive/MyDrive/Datasets/Amazon_ML_Challenge/Dataset/train_clean.csv', skiprows = range(1,2868_000))\n",
        "#test = pd.read_csv('/content/drive/MyDrive/Datasets/Amazon_ML_Challenge/Dataset/test_clean.csv')"
      ],
      "execution_count": null,
      "outputs": []
    },
    {
      "cell_type": "code",
      "metadata": {
        "colab": {
          "base_uri": "https://localhost:8080/"
        },
        "id": "-51LP4FoDdu4",
        "outputId": "fea386a6-f80e-47a8-c0d2-075938d92ff7"
      },
      "source": [
        "train.info()"
      ],
      "execution_count": null,
      "outputs": [
        {
          "output_type": "stream",
          "text": [
            "<class 'pandas.core.frame.DataFrame'>\n",
            "RangeIndex: 898 entries, 0 to 897\n",
            "Data columns (total 2 columns):\n",
            " #   Column          Non-Null Count  Dtype \n",
            "---  ------          --------------  ----- \n",
            " 0   BROWSE_NODE_ID  898 non-null    int64 \n",
            " 1   TEXT            898 non-null    object\n",
            "dtypes: int64(1), object(1)\n",
            "memory usage: 14.2+ KB\n"
          ],
          "name": "stdout"
        }
      ]
    },
    {
      "cell_type": "code",
      "metadata": {
        "id": "kNCc8j3iDdsn"
      },
      "source": [
        "#test.info()"
      ],
      "execution_count": null,
      "outputs": []
    },
    {
      "cell_type": "code",
      "metadata": {
        "colab": {
          "base_uri": "https://localhost:8080/"
        },
        "id": "qz7Rab12D7BF",
        "outputId": "05191ae1-1e38-495d-8f13-398c06a89fe9"
      },
      "source": [
        "train.isnull().sum()"
      ],
      "execution_count": null,
      "outputs": [
        {
          "output_type": "execute_result",
          "data": {
            "text/plain": [
              "BROWSE_NODE_ID    0\n",
              "TEXT              0\n",
              "dtype: int64"
            ]
          },
          "metadata": {
            "tags": []
          },
          "execution_count": 10
        }
      ]
    },
    {
      "cell_type": "code",
      "metadata": {
        "id": "J0DW9G2FEABt"
      },
      "source": [
        "#test.isnull().sum()"
      ],
      "execution_count": null,
      "outputs": []
    },
    {
      "cell_type": "markdown",
      "metadata": {
        "id": "jC7Ozq-0t4hd"
      },
      "source": [
        "# Converting Browse node id"
      ]
    },
    {
      "cell_type": "code",
      "metadata": {
        "id": "1GCr59lUu28K"
      },
      "source": [
        "train['BROWSE_NODE_ID'].value_counts()"
      ],
      "execution_count": null,
      "outputs": []
    },
    {
      "cell_type": "code",
      "metadata": {
        "colab": {
          "base_uri": "https://localhost:8080/"
        },
        "id": "YDmu0I3Ft9CW",
        "outputId": "ef9e1192-d32e-4db4-e90f-d1c93320fc5b"
      },
      "source": [
        "f = open('/content/drive/MyDrive/Datasets/Amazon_ML_Challenge/other_node_id.txt', 'r')\n",
        " \n",
        "other_node_id = [int(i) for i in f.readline().split(',')[:-1]]\n",
        "other_node_id = np.array(other_node_id)\n",
        " \n",
        "f.close()\n",
        "print(len(other_node_id))"
      ],
      "execution_count": null,
      "outputs": [
        {
          "output_type": "stream",
          "text": [
            "7160\n"
          ],
          "name": "stdout"
        }
      ]
    },
    {
      "cell_type": "code",
      "metadata": {
        "id": "gpd_8BoxuQO4"
      },
      "source": [
        "train['BROWSE_NODE_ID'] = train['BROWSE_NODE_ID'].apply(lambda x: x if x not in other_node_id else -1)"
      ],
      "execution_count": null,
      "outputs": []
    },
    {
      "cell_type": "code",
      "metadata": {
        "colab": {
          "base_uri": "https://localhost:8080/"
        },
        "id": "0uka1XmIuQTg",
        "outputId": "6ea02fba-8219-4840-d159-c3448478788a"
      },
      "source": [
        "train['BROWSE_NODE_ID'].value_counts()"
      ],
      "execution_count": null,
      "outputs": [
        {
          "output_type": "execute_result",
          "data": {
            "text/plain": [
              " 1045     106\n",
              " 5         33\n",
              "-1         25\n",
              " 811       24\n",
              " 739       21\n",
              "         ... \n",
              " 535        1\n",
              " 1551       1\n",
              " 5621       1\n",
              " 27143      1\n",
              " 451        1\n",
              "Name: BROWSE_NODE_ID, Length: 350, dtype: int64"
            ]
          },
          "metadata": {
            "tags": []
          },
          "execution_count": 13
        }
      ]
    },
    {
      "cell_type": "code",
      "metadata": {
        "id": "oIRBqRxBuQeK"
      },
      "source": [
        ""
      ],
      "execution_count": null,
      "outputs": []
    },
    {
      "cell_type": "markdown",
      "metadata": {
        "id": "X5TB8ZDFvlPN"
      },
      "source": [
        "# Groupby Browse node id"
      ]
    },
    {
      "cell_type": "code",
      "metadata": {
        "id": "Jm4A_3itvmZr"
      },
      "source": [
        "node_id_group = train.groupby('BROWSE_NODE_ID')"
      ],
      "execution_count": null,
      "outputs": []
    },
    {
      "cell_type": "code",
      "metadata": {
        "id": "-A_jFKksvnpv"
      },
      "source": [
        "df = node_id_group.get_group(5)\n",
        "df.head(3)"
      ],
      "execution_count": null,
      "outputs": []
    },
    {
      "cell_type": "code",
      "metadata": {
        "id": "gj94WCMDvnuG"
      },
      "source": [
        ""
      ],
      "execution_count": null,
      "outputs": []
    },
    {
      "cell_type": "markdown",
      "metadata": {
        "id": "wv-ABIMVxwKz"
      },
      "source": [
        "# Keep only Top 50 words by class in Corpus"
      ]
    },
    {
      "cell_type": "code",
      "metadata": {
        "colab": {
          "base_uri": "https://localhost:8080/",
          "height": 171
        },
        "id": "GEUxCzSdvnxh",
        "outputId": "f3cd1b2f-44b4-449b-e619-4fdb72cc2eaf"
      },
      "source": [
        "def build_vocab(sentences):\n",
        "  word_freq = {}\n",
        "  for row in sentences:\n",
        "      for word in row.split():\n",
        "        if len(word)>2:\n",
        "          try:\n",
        "            word_freq[word] += 1\n",
        "          except:\n",
        "            word_freq[word] = 1\n",
        "  \n",
        "  #print(\"Total words found:\",len(word_freq))\n",
        "  return (word_freq, len(word_freq))"
      ],
      "execution_count": null,
      "outputs": [
        {
          "output_type": "execute_result",
          "data": {
            "application/vnd.google.colaboratory.intrinsic+json": {
              "type": "string"
            },
            "text/plain": [
              "'def build_vocab(sentences):\\n  word_freq = {}\\n  for row in sentences:\\n      for word in row.split():\\n        if len(word)>2:\\n          try:\\n            word_freq[word] += 1\\n          except:\\n            word_freq[word] = 1\\n  \\n  #print(\"Total words found:\",len(word_freq))\\n  return (word_freq, len(word_freq))'"
            ]
          },
          "metadata": {
            "tags": []
          },
          "execution_count": 15
        }
      ]
    },
    {
      "cell_type": "code",
      "metadata": {
        "colab": {
          "base_uri": "https://localhost:8080/",
          "height": 52
        },
        "id": "utLDm1l_vn0_",
        "outputId": "9f934365-bb19-4f2e-9ab5-185b34095232"
      },
      "source": [
        "vocab,leng = build_vocab(df['TEXT'])"
      ],
      "execution_count": null,
      "outputs": [
        {
          "output_type": "execute_result",
          "data": {
            "application/vnd.google.colaboratory.intrinsic+json": {
              "type": "string"
            },
            "text/plain": [
              "\"vocab,leng = build_vocab(df['TEXT'])\""
            ]
          },
          "metadata": {
            "tags": []
          },
          "execution_count": 16
        }
      ]
    },
    {
      "cell_type": "code",
      "metadata": {
        "colab": {
          "base_uri": "https://localhost:8080/",
          "height": 69
        },
        "id": "g11JEZeSx8p9",
        "outputId": "6cc36a81-7319-44d8-c3a2-3bdab187d79c"
      },
      "source": [
        "sorted_words_freq = sorted(vocab.items(), key = lambda x: x[1], reverse = True)\n",
        "sorted_words_freq[:50]"
      ],
      "execution_count": null,
      "outputs": [
        {
          "output_type": "execute_result",
          "data": {
            "application/vnd.google.colaboratory.intrinsic+json": {
              "type": "string"
            },
            "text/plain": [
              "'sorted_words_freq = sorted(vocab.items(), key = lambda x: x[1], reverse = True)\\nsorted_words_freq[:40]'"
            ]
          },
          "metadata": {
            "tags": []
          },
          "execution_count": 17
        }
      ]
    },
    {
      "cell_type": "code",
      "metadata": {
        "colab": {
          "base_uri": "https://localhost:8080/",
          "height": 52
        },
        "id": "ZcrxEhc6x8uF",
        "outputId": "aa3d0ebc-848a-475c-cbba-6374e3aaded3"
      },
      "source": [
        "word = []\n",
        "for i in sorted_words_freq[:50]:\n",
        "  word.append(i[0])"
      ],
      "execution_count": null,
      "outputs": [
        {
          "output_type": "execute_result",
          "data": {
            "application/vnd.google.colaboratory.intrinsic+json": {
              "type": "string"
            },
            "text/plain": [
              "'word = []\\nfor i in sorted_words_freq[:40]:\\n  word.append(i[0])'"
            ]
          },
          "metadata": {
            "tags": []
          },
          "execution_count": 18
        }
      ]
    },
    {
      "cell_type": "code",
      "metadata": {
        "colab": {
          "base_uri": "https://localhost:8080/",
          "height": 35
        },
        "id": "KAHDbQubx8xz",
        "outputId": "6e5bbf68-63e8-49e3-d867-5b91624bd3ed"
      },
      "source": [
        "len(word)"
      ],
      "execution_count": null,
      "outputs": [
        {
          "output_type": "execute_result",
          "data": {
            "application/vnd.google.colaboratory.intrinsic+json": {
              "type": "string"
            },
            "text/plain": [
              "'len(word)'"
            ]
          },
          "metadata": {
            "tags": []
          },
          "execution_count": 19
        }
      ]
    },
    {
      "cell_type": "code",
      "metadata": {
        "id": "KMHxub4PcUmw"
      },
      "source": [
        ""
      ],
      "execution_count": null,
      "outputs": []
    },
    {
      "cell_type": "code",
      "metadata": {
        "colab": {
          "base_uri": "https://localhost:8080/",
          "height": 291
        },
        "id": "hq0SAY7R1LU_",
        "outputId": "3967836b-95b9-4c51-c524-2a4bb0ac810b"
      },
      "source": [
        "corpus = {}\n",
        "ctr = 1\n",
        "total_words_processed = 0\n",
        "for name,group in tqdm(node_id_group):\n",
        "  vocab, length = build_vocab(group['TEXT'])\n",
        "  sorted_words_freq = sorted(vocab.items(), key = lambda x: x[1], reverse = True)\n",
        "  total_words_processed+=length\n",
        "  \n",
        "  word = {}\n",
        "  for i in sorted_words_freq[:50]:\n",
        "    word[i[0]] = 0\n",
        "  \n",
        "  corpus.update(word)\n",
        "  print('Total words processed:',total_words_processed, 'Total unque words in the corpus:', len(corpus))\n",
        "  print(round((ctr/2760)*100,2),'% completed:')\n",
        "  ctr+=1\n",
        "\n",
        " \n",
        "print(len(corpus))"
      ],
      "execution_count": null,
      "outputs": [
        {
          "output_type": "execute_result",
          "data": {
            "application/vnd.google.colaboratory.intrinsic+json": {
              "type": "string"
            },
            "text/plain": [
              "\"corpus = {}\\nctr = 1\\ntotal_words_processed = 0\\nfor name,group in tqdm(node_id_group):\\n  vocab, length = build_vocab(group['TEXT'])\\n  sorted_words_freq = sorted(vocab.items(), key = lambda x: x[1], reverse = True)\\n  total_words_processed+=length\\n  \\n  word = {}\\n  for i in sorted_words_freq[:50]:\\n    word[i[0]] = 0\\n  \\n  corpus.update(word)\\n  print('Total words processed:',total_words_processed, 'Total unque words in the corpus:', len(corpus))\\n  print(round((ctr/2760)*100,2),'% completed:')\\n  ctr+=1\\n\\n \\nprint(len(corpus))\""
            ]
          },
          "metadata": {
            "tags": []
          },
          "execution_count": 20
        }
      ]
    },
    {
      "cell_type": "code",
      "metadata": {
        "colab": {
          "base_uri": "https://localhost:8080/",
          "height": 35
        },
        "id": "Vw9fxDQk1LZ1",
        "outputId": "80a78982-224c-4584-a24d-763389ca680e"
      },
      "source": [
        "print(len(corpus))"
      ],
      "execution_count": null,
      "outputs": [
        {
          "output_type": "execute_result",
          "data": {
            "application/vnd.google.colaboratory.intrinsic+json": {
              "type": "string"
            },
            "text/plain": [
              "'print(len(corpus))'"
            ]
          },
          "metadata": {
            "tags": []
          },
          "execution_count": 21
        }
      ]
    },
    {
      "cell_type": "code",
      "metadata": {
        "id": "qPAO4VLvhOrA"
      },
      "source": [
        ""
      ],
      "execution_count": null,
      "outputs": []
    },
    {
      "cell_type": "code",
      "metadata": {
        "colab": {
          "base_uri": "https://localhost:8080/",
          "height": 52
        },
        "id": "vvQ-e3pC1Lde",
        "outputId": "b66e1afc-3234-427c-e3fb-75717306e4fa"
      },
      "source": [
        "corpus = set(corpus)\n",
        "print(len(corpus))"
      ],
      "execution_count": null,
      "outputs": [
        {
          "output_type": "execute_result",
          "data": {
            "application/vnd.google.colaboratory.intrinsic+json": {
              "type": "string"
            },
            "text/plain": [
              "'corpus = set(corpus)\\nprint(len(corpus))'"
            ]
          },
          "metadata": {
            "tags": []
          },
          "execution_count": 23
        }
      ]
    },
    {
      "cell_type": "code",
      "metadata": {
        "colab": {
          "base_uri": "https://localhost:8080/",
          "height": 86
        },
        "id": "BvnDw2eg1LhN",
        "outputId": "8561df91-340a-42c3-9fd1-cf0856d8e522"
      },
      "source": [
        "with open('/content/drive/MyDrive/Datasets/Amazon_ML_Challenge/corpus.txt','a') as f:\n",
        "  for word in corpus:\n",
        "    f.write(f'{word},')"
      ],
      "execution_count": null,
      "outputs": [
        {
          "output_type": "execute_result",
          "data": {
            "application/vnd.google.colaboratory.intrinsic+json": {
              "type": "string"
            },
            "text/plain": [
              "\"with open('/content/drive/MyDrive/Datasets/Amazon_ML_Challenge/corpus.txt','a') as f:\\n  for word in corpus:\\n    f.write(f'{word},')\""
            ]
          },
          "metadata": {
            "tags": []
          },
          "execution_count": 24
        }
      ]
    },
    {
      "cell_type": "code",
      "metadata": {
        "colab": {
          "base_uri": "https://localhost:8080/",
          "height": 103
        },
        "id": "azsn2hSfvn4X",
        "outputId": "da412b8b-2007-4251-ec4f-749261c4425d"
      },
      "source": [
        "with open('/content/drive/MyDrive/Datasets/Amazon_ML_Challenge/corpus.txt','r') as f:\n",
        "  corpus = f.readline().split(',')[:-1]\n",
        "  print(len(corpus))"
      ],
      "execution_count": null,
      "outputs": [
        {
          "output_type": "execute_result",
          "data": {
            "application/vnd.google.colaboratory.intrinsic+json": {
              "type": "string"
            },
            "text/plain": [
              "\"with open('/content/drive/MyDrive/Datasets/Amazon_ML_Challenge/corpus.txt','r') as f:\\n  corpus = f.readline().split(',')[:-1]\\n  print(len(corpus))\""
            ]
          },
          "metadata": {
            "tags": []
          },
          "execution_count": 25
        }
      ]
    },
    {
      "cell_type": "markdown",
      "metadata": {
        "id": "Oxv2iHDIjEWS"
      },
      "source": [
        "# "
      ]
    },
    {
      "cell_type": "code",
      "metadata": {
        "colab": {
          "base_uri": "https://localhost:8080/",
          "height": 35
        },
        "id": "m2PROowBjFFH",
        "outputId": "edd42b10-9114-40fb-aa45-9a2229d1797c"
      },
      "source": [
        "corpus[:10]"
      ],
      "execution_count": null,
      "outputs": [
        {
          "output_type": "execute_result",
          "data": {
            "application/vnd.google.colaboratory.intrinsic+json": {
              "type": "string"
            },
            "text/plain": [
              "'corpus[:10]'"
            ]
          },
          "metadata": {
            "tags": []
          },
          "execution_count": 26
        }
      ]
    },
    {
      "cell_type": "code",
      "metadata": {
        "id": "wYsNyONTjFCU"
      },
      "source": [
        ""
      ],
      "execution_count": null,
      "outputs": []
    },
    {
      "cell_type": "markdown",
      "metadata": {
        "id": "zIIq25eEkm2o"
      },
      "source": [
        "# Keeping only corpus words in train and test"
      ]
    },
    {
      "cell_type": "code",
      "metadata": {
        "colab": {
          "base_uri": "https://localhost:8080/"
        },
        "id": "b4ViBSTEDd2Q",
        "outputId": "9437188a-fe0d-4c4c-c576-da22e30451de"
      },
      "source": [
        "with open('/content/drive/MyDrive/Datasets/Amazon_ML_Challenge/corpus.txt','r') as f:\n",
        "  corpus = f.readline().split(',')[:-1]\n",
        "  print(len(corpus))"
      ],
      "execution_count": null,
      "outputs": [
        {
          "output_type": "stream",
          "text": [
            "8138\n"
          ],
          "name": "stdout"
        }
      ]
    },
    {
      "cell_type": "code",
      "metadata": {
        "colab": {
          "base_uri": "https://localhost:8080/"
        },
        "id": "guuzAqw5DiEw",
        "outputId": "ffeb0354-3ad0-4e44-8fbd-3ba10fb129d6"
      },
      "source": [
        "corpus = np.array(corpus)\n",
        "print(len(corpus))\n",
        "print(corpus)"
      ],
      "execution_count": null,
      "outputs": [
        {
          "output_type": "stream",
          "text": [
            "8138\n",
            "['hardness' 'bulletin' 'splitter' ... 'corrosion' 'tie' 'newsboy']\n"
          ],
          "name": "stdout"
        }
      ]
    },
    {
      "cell_type": "code",
      "metadata": {
        "id": "gk01RRY0EYE1"
      },
      "source": [
        "def clean(text):\n",
        "  cleantext = ''\n",
        "  for word in text.split():\n",
        "    if word in corpus:\n",
        "      cleantext = cleantext + ' ' + word\n",
        " \n",
        "  return cleantext.strip()"
      ],
      "execution_count": null,
      "outputs": []
    },
    {
      "cell_type": "code",
      "metadata": {
        "colab": {
          "base_uri": "https://localhost:8080/",
          "height": 35
        },
        "id": "AimSkpPejzZg",
        "outputId": "230b2b1c-8b3e-4937-ba2c-9a6104b09773"
      },
      "source": [
        "clean('pete cat bedtime blue 56 doll inch pete cat coole')"
      ],
      "execution_count": null,
      "outputs": [
        {
          "output_type": "execute_result",
          "data": {
            "application/vnd.google.colaboratory.intrinsic+json": {
              "type": "string"
            },
            "text/plain": [
              "'cat blue doll inch cat'"
            ]
          },
          "metadata": {
            "tags": []
          },
          "execution_count": 17
        }
      ]
    },
    {
      "cell_type": "code",
      "metadata": {
        "id": "KUQfkmfzDmsP"
      },
      "source": [
        "FROM = 0\n",
        "TO = 897"
      ],
      "execution_count": null,
      "outputs": []
    },
    {
      "cell_type": "code",
      "metadata": {
        "colab": {
          "base_uri": "https://localhost:8080/"
        },
        "id": "G7c564FNDm80",
        "outputId": "c8fd7086-e513-4bdd-b7e5-fd8408208b21"
      },
      "source": [
        "temp = train.loc[FROM:TO,:]\n",
        "temp.reset_index(drop=True, inplace=True)\n",
        "temp.info()"
      ],
      "execution_count": null,
      "outputs": [
        {
          "output_type": "stream",
          "text": [
            "<class 'pandas.core.frame.DataFrame'>\n",
            "RangeIndex: 898 entries, 0 to 897\n",
            "Data columns (total 2 columns):\n",
            " #   Column          Non-Null Count  Dtype \n",
            "---  ------          --------------  ----- \n",
            " 0   BROWSE_NODE_ID  898 non-null    int64 \n",
            " 1   TEXT            898 non-null    object\n",
            "dtypes: int64(1), object(1)\n",
            "memory usage: 14.2+ KB\n"
          ],
          "name": "stdout"
        }
      ]
    },
    {
      "cell_type": "code",
      "metadata": {
        "colab": {
          "base_uri": "https://localhost:8080/",
          "height": 111
        },
        "id": "BCv8FN2ahwwM",
        "outputId": "d81f24e8-09e3-45f4-acef-6f5f141c45e8"
      },
      "source": [
        "temp.head(2)"
      ],
      "execution_count": null,
      "outputs": [
        {
          "output_type": "execute_result",
          "data": {
            "text/html": [
              "<div>\n",
              "<style scoped>\n",
              "    .dataframe tbody tr th:only-of-type {\n",
              "        vertical-align: middle;\n",
              "    }\n",
              "\n",
              "    .dataframe tbody tr th {\n",
              "        vertical-align: top;\n",
              "    }\n",
              "\n",
              "    .dataframe thead th {\n",
              "        text-align: right;\n",
              "    }\n",
              "</style>\n",
              "<table border=\"1\" class=\"dataframe\">\n",
              "  <thead>\n",
              "    <tr style=\"text-align: right;\">\n",
              "      <th></th>\n",
              "      <th>BROWSE_NODE_ID</th>\n",
              "      <th>TEXT</th>\n",
              "    </tr>\n",
              "  </thead>\n",
              "  <tbody>\n",
              "    <tr>\n",
              "      <th>0</th>\n",
              "      <td>1209</td>\n",
              "      <td>sarona men olive slim fit stretch jogger jean ...</td>\n",
              "    </tr>\n",
              "    <tr>\n",
              "      <th>1</th>\n",
              "      <td>1045</td>\n",
              "      <td>pikkme samsung galaxy back cover case designer...</td>\n",
              "    </tr>\n",
              "  </tbody>\n",
              "</table>\n",
              "</div>"
            ],
            "text/plain": [
              "   BROWSE_NODE_ID                                               TEXT\n",
              "0            1209  sarona men olive slim fit stretch jogger jean ...\n",
              "1            1045  pikkme samsung galaxy back cover case designer..."
            ]
          },
          "metadata": {
            "tags": []
          },
          "execution_count": 21
        }
      ]
    },
    {
      "cell_type": "code",
      "metadata": {
        "colab": {
          "base_uri": "https://localhost:8080/"
        },
        "id": "V8XB5a-PEYBf",
        "outputId": "2366742d-cd8a-4cb1-c3e8-1f419fc99be5"
      },
      "source": [
        "batch_size = 200\n",
        "ctr = batch_size\n",
        "leng = len(temp)\n",
        " \n",
        "for start,end in zip(range(0,leng+1,batch_size), range(batch_size,leng+1,batch_size)):\n",
        "  \n",
        "  print('start:',start,'end:',end)\n",
        "  \n",
        "  df = temp.loc[start:end,:]\n",
        "  df[\"CLEANED TEXT\"] = df[\"TEXT\"].apply(clean)\n",
        "  df.drop('TEXT', axis=1, inplace=True)\n",
        "  \n",
        "  if not os.path.isfile('/content/drive/MyDrive/Datasets/Amazon_ML_Challenge/train_clean_final.csv'):\n",
        "    df.to_csv('/content/drive/MyDrive/Datasets/Amazon_ML_Challenge/train_clean_final.csv', index = False)\n",
        "  else:\n",
        "    df.to_csv('/content/drive/MyDrive/Datasets/Amazon_ML_Challenge/train_clean_final.csv', mode = 'a', header = False, index = False)\n",
        "  \n",
        "  print(round((ctr/leng)*100, 2), '% completed')\n",
        "  ctr+=batch_size"
      ],
      "execution_count": null,
      "outputs": [
        {
          "output_type": "stream",
          "text": [
            "start: 0 end: 200\n"
          ],
          "name": "stdout"
        },
        {
          "output_type": "stream",
          "text": [
            "/usr/local/lib/python3.7/dist-packages/ipykernel_launcher.py:10: SettingWithCopyWarning: \n",
            "A value is trying to be set on a copy of a slice from a DataFrame.\n",
            "Try using .loc[row_indexer,col_indexer] = value instead\n",
            "\n",
            "See the caveats in the documentation: https://pandas.pydata.org/pandas-docs/stable/user_guide/indexing.html#returning-a-view-versus-a-copy\n",
            "  # Remove the CWD from sys.path while we load stuff.\n",
            "/usr/local/lib/python3.7/dist-packages/pandas/core/frame.py:4174: SettingWithCopyWarning: \n",
            "A value is trying to be set on a copy of a slice from a DataFrame\n",
            "\n",
            "See the caveats in the documentation: https://pandas.pydata.org/pandas-docs/stable/user_guide/indexing.html#returning-a-view-versus-a-copy\n",
            "  errors=errors,\n"
          ],
          "name": "stderr"
        },
        {
          "output_type": "stream",
          "text": [
            "22.27 % completed\n",
            "start: 200 end: 400\n",
            "44.54 % completed\n",
            "start: 400 end: 600\n",
            "66.82 % completed\n",
            "start: 600 end: 800\n",
            "89.09 % completed\n"
          ],
          "name": "stdout"
        }
      ]
    },
    {
      "cell_type": "code",
      "metadata": {
        "id": "YmmFFho9BWOo"
      },
      "source": [
        ""
      ],
      "execution_count": null,
      "outputs": []
    },
    {
      "cell_type": "code",
      "metadata": {
        "colab": {
          "base_uri": "https://localhost:8080/",
          "height": 142
        },
        "id": "Kkzud0AdBWWm",
        "outputId": "6643b8da-fef7-4440-b91a-29ad093c344a"
      },
      "source": [
        "temp1 = pd.read_csv('/content/drive/MyDrive/Datasets/Amazon_ML_Challenge/train_clean_final.csv')\n",
        "temp1.head(3)"
      ],
      "execution_count": null,
      "outputs": [
        {
          "output_type": "execute_result",
          "data": {
            "text/html": [
              "<div>\n",
              "<style scoped>\n",
              "    .dataframe tbody tr th:only-of-type {\n",
              "        vertical-align: middle;\n",
              "    }\n",
              "\n",
              "    .dataframe tbody tr th {\n",
              "        vertical-align: top;\n",
              "    }\n",
              "\n",
              "    .dataframe thead th {\n",
              "        text-align: right;\n",
              "    }\n",
              "</style>\n",
              "<table border=\"1\" class=\"dataframe\">\n",
              "  <thead>\n",
              "    <tr style=\"text-align: right;\">\n",
              "      <th></th>\n",
              "      <th>BROWSE_NODE_ID</th>\n",
              "      <th>CLEANED TEXT</th>\n",
              "    </tr>\n",
              "  </thead>\n",
              "  <tbody>\n",
              "    <tr>\n",
              "      <th>0</th>\n",
              "      <td>0</td>\n",
              "      <td>cat blue doll inch cat popular cat new cat blu...</td>\n",
              "    </tr>\n",
              "    <tr>\n",
              "      <th>1</th>\n",
              "      <td>1</td>\n",
              "      <td>new refrigerator magnet new cello wrapped hard...</td>\n",
              "    </tr>\n",
              "    <tr>\n",
              "      <th>2</th>\n",
              "      <td>-1</td>\n",
              "      <td>ultimate self complete guide baking craft gard...</td>\n",
              "    </tr>\n",
              "  </tbody>\n",
              "</table>\n",
              "</div>"
            ],
            "text/plain": [
              "   BROWSE_NODE_ID                                       CLEANED TEXT\n",
              "0               0  cat blue doll inch cat popular cat new cat blu...\n",
              "1               1  new refrigerator magnet new cello wrapped hard...\n",
              "2              -1  ultimate self complete guide baking craft gard..."
            ]
          },
          "metadata": {
            "tags": []
          },
          "execution_count": 3
        }
      ]
    },
    {
      "cell_type": "code",
      "metadata": {
        "colab": {
          "base_uri": "https://localhost:8080/"
        },
        "id": "3fQa-OykBWaZ",
        "outputId": "099149fc-46c1-46f5-89d5-70d5ce583fc6"
      },
      "source": [
        "temp1.info()"
      ],
      "execution_count": null,
      "outputs": [
        {
          "output_type": "stream",
          "text": [
            "<class 'pandas.core.frame.DataFrame'>\n",
            "RangeIndex: 3167585 entries, 0 to 3167584\n",
            "Data columns (total 2 columns):\n",
            " #   Column          Dtype \n",
            "---  ------          ----- \n",
            " 0   BROWSE_NODE_ID  int64 \n",
            " 1   CLEANED TEXT    object\n",
            "dtypes: int64(1), object(1)\n",
            "memory usage: 48.3+ MB\n"
          ],
          "name": "stdout"
        }
      ]
    },
    {
      "cell_type": "code",
      "metadata": {
        "colab": {
          "base_uri": "https://localhost:8080/"
        },
        "id": "UM9EczJsnpK-",
        "outputId": "07129e45-a4ad-42a9-ab3f-a2cc02eefbda"
      },
      "source": [
        "temp1.isnull().sum()"
      ],
      "execution_count": null,
      "outputs": [
        {
          "output_type": "execute_result",
          "data": {
            "text/plain": [
              "BROWSE_NODE_ID       0\n",
              "CLEANED TEXT      9159\n",
              "dtype: int64"
            ]
          },
          "metadata": {
            "tags": []
          },
          "execution_count": 5
        }
      ]
    },
    {
      "cell_type": "code",
      "metadata": {
        "colab": {
          "base_uri": "https://localhost:8080/",
          "height": 142
        },
        "id": "53XZssBxL7B-",
        "outputId": "11662fba-dc01-48f5-91a2-718f7f7c1d8e"
      },
      "source": [
        "temp1.tail(3)"
      ],
      "execution_count": null,
      "outputs": [
        {
          "output_type": "execute_result",
          "data": {
            "text/html": [
              "<div>\n",
              "<style scoped>\n",
              "    .dataframe tbody tr th:only-of-type {\n",
              "        vertical-align: middle;\n",
              "    }\n",
              "\n",
              "    .dataframe tbody tr th {\n",
              "        vertical-align: top;\n",
              "    }\n",
              "\n",
              "    .dataframe thead th {\n",
              "        text-align: right;\n",
              "    }\n",
              "</style>\n",
              "<table border=\"1\" class=\"dataframe\">\n",
              "  <thead>\n",
              "    <tr style=\"text-align: right;\">\n",
              "      <th></th>\n",
              "      <th>BROWSE_NODE_ID</th>\n",
              "      <th>CLEANED TEXT</th>\n",
              "    </tr>\n",
              "  </thead>\n",
              "  <tbody>\n",
              "    <tr>\n",
              "      <th>3167582</th>\n",
              "      <td>5</td>\n",
              "      <td>unique store limited edition shirt men fresh c...</td>\n",
              "    </tr>\n",
              "    <tr>\n",
              "      <th>3167583</th>\n",
              "      <td>1052</td>\n",
              "      <td>thought solid woven cotton silk saree woman st...</td>\n",
              "    </tr>\n",
              "    <tr>\n",
              "      <th>3167584</th>\n",
              "      <td>1209</td>\n",
              "      <td>men olive slim fit stretch jogger jean refresh...</td>\n",
              "    </tr>\n",
              "  </tbody>\n",
              "</table>\n",
              "</div>"
            ],
            "text/plain": [
              "         BROWSE_NODE_ID                                       CLEANED TEXT\n",
              "3167582               5  unique store limited edition shirt men fresh c...\n",
              "3167583            1052  thought solid woven cotton silk saree woman st...\n",
              "3167584            1209  men olive slim fit stretch jogger jean refresh..."
            ]
          },
          "metadata": {
            "tags": []
          },
          "execution_count": 6
        }
      ]
    },
    {
      "cell_type": "code",
      "metadata": {
        "colab": {
          "base_uri": "https://localhost:8080/"
        },
        "id": "UrQwmsXJL7Yu",
        "outputId": "1d06e819-e2a0-4fa7-8528-0affc3aa2092"
      },
      "source": [
        "temp1.duplicated().sum()"
      ],
      "execution_count": null,
      "outputs": [
        {
          "output_type": "execute_result",
          "data": {
            "text/plain": [
              "835469"
            ]
          },
          "metadata": {
            "tags": []
          },
          "execution_count": 7
        }
      ]
    },
    {
      "cell_type": "code",
      "metadata": {
        "id": "J_nxx3GllWca"
      },
      "source": [
        "del(temp)"
      ],
      "execution_count": null,
      "outputs": []
    },
    {
      "cell_type": "code",
      "metadata": {
        "colab": {
          "base_uri": "https://localhost:8080/",
          "height": 330
        },
        "id": "861wwUtcL6Ca",
        "outputId": "4bf97334-816f-4d6a-ce35-c316c7806f87"
      },
      "source": [
        "temp.tail(3)"
      ],
      "execution_count": null,
      "outputs": [
        {
          "output_type": "execute_result",
          "data": {
            "text/html": [
              "<div>\n",
              "<style scoped>\n",
              "    .dataframe tbody tr th:only-of-type {\n",
              "        vertical-align: middle;\n",
              "    }\n",
              "\n",
              "    .dataframe tbody tr th {\n",
              "        vertical-align: top;\n",
              "    }\n",
              "\n",
              "    .dataframe thead th {\n",
              "        text-align: right;\n",
              "    }\n",
              "</style>\n",
              "<table border=\"1\" class=\"dataframe\">\n",
              "  <thead>\n",
              "    <tr style=\"text-align: right;\">\n",
              "      <th></th>\n",
              "      <th>BROWSE_NODE_ID</th>\n",
              "      <th>CLEANED TEXT</th>\n",
              "    </tr>\n",
              "  </thead>\n",
              "  <tbody>\n",
              "    <tr>\n",
              "      <th>100047</th>\n",
              "      <td>374</td>\n",
              "      <td>hardness selfie note tempered glass screen gua...</td>\n",
              "    </tr>\n",
              "    <tr>\n",
              "      <th>100048</th>\n",
              "      <td>1045</td>\n",
              "      <td>pug dog printed designer hard back case cover ...</td>\n",
              "    </tr>\n",
              "    <tr>\n",
              "      <th>100049</th>\n",
              "      <td>1045</td>\n",
              "      <td>movie direction board printed designer hard ba...</td>\n",
              "    </tr>\n",
              "  </tbody>\n",
              "</table>\n",
              "</div>"
            ],
            "text/plain": [
              "        BROWSE_NODE_ID                                       CLEANED TEXT\n",
              "100047             374  hardness selfie note tempered glass screen gua...\n",
              "100048            1045  pug dog printed designer hard back case cover ...\n",
              "100049            1045  movie direction board printed designer hard ba..."
            ]
          },
          "metadata": {
            "tags": []
          },
          "execution_count": 63
        }
      ]
    },
    {
      "cell_type": "code",
      "metadata": {
        "colab": {
          "base_uri": "https://localhost:8080/",
          "height": 577
        },
        "id": "j2V30w-rL6Hr",
        "outputId": "ec24bcbe-5cf7-4815-cf68-3ef280a862ba"
      },
      "source": [
        "train.loc[99995:100000,:]"
      ],
      "execution_count": null,
      "outputs": [
        {
          "output_type": "execute_result",
          "data": {
            "text/html": [
              "<div>\n",
              "<style scoped>\n",
              "    .dataframe tbody tr th:only-of-type {\n",
              "        vertical-align: middle;\n",
              "    }\n",
              "\n",
              "    .dataframe tbody tr th {\n",
              "        vertical-align: top;\n",
              "    }\n",
              "\n",
              "    .dataframe thead th {\n",
              "        text-align: right;\n",
              "    }\n",
              "</style>\n",
              "<table border=\"1\" class=\"dataframe\">\n",
              "  <thead>\n",
              "    <tr style=\"text-align: right;\">\n",
              "      <th></th>\n",
              "      <th>BROWSE_NODE_ID</th>\n",
              "      <th>TEXT</th>\n",
              "    </tr>\n",
              "  </thead>\n",
              "  <tbody>\n",
              "    <tr>\n",
              "      <th>99995</th>\n",
              "      <td>2667</td>\n",
              "      <td>hokipo antislip rubber back dirt trapper doorm...</td>\n",
              "    </tr>\n",
              "    <tr>\n",
              "      <th>99996</th>\n",
              "      <td>924</td>\n",
              "      <td>zivame woman pyjama set pfashapink pink medium...</td>\n",
              "    </tr>\n",
              "    <tr>\n",
              "      <th>99997</th>\n",
              "      <td>368</td>\n",
              "      <td>exotic india men oxblood red leather mojaris s...</td>\n",
              "    </tr>\n",
              "    <tr>\n",
              "      <th>99998</th>\n",
              "      <td>374</td>\n",
              "      <td>fasheen hardness micromax selfie note tempered...</td>\n",
              "    </tr>\n",
              "    <tr>\n",
              "      <th>99999</th>\n",
              "      <td>1045</td>\n",
              "      <td>nalamicases pug dog printed designer hard back...</td>\n",
              "    </tr>\n",
              "    <tr>\n",
              "      <th>100000</th>\n",
              "      <td>1045</td>\n",
              "      <td>srrlcases movie direction clap board icon prin...</td>\n",
              "    </tr>\n",
              "  </tbody>\n",
              "</table>\n",
              "</div>"
            ],
            "text/plain": [
              "        BROWSE_NODE_ID                                               TEXT\n",
              "99995             2667  hokipo antislip rubber back dirt trapper doorm...\n",
              "99996              924  zivame woman pyjama set pfashapink pink medium...\n",
              "99997              368  exotic india men oxblood red leather mojaris s...\n",
              "99998              374  fasheen hardness micromax selfie note tempered...\n",
              "99999             1045  nalamicases pug dog printed designer hard back...\n",
              "100000            1045  srrlcases movie direction clap board icon prin..."
            ]
          },
          "metadata": {
            "tags": []
          },
          "execution_count": 65
        }
      ]
    },
    {
      "cell_type": "code",
      "metadata": {
        "id": "j_eevR8nL6LU"
      },
      "source": [
        ""
      ],
      "execution_count": null,
      "outputs": []
    },
    {
      "cell_type": "code",
      "metadata": {
        "id": "n6hr0I67L6O8"
      },
      "source": [
        ""
      ],
      "execution_count": null,
      "outputs": []
    },
    {
      "cell_type": "code",
      "metadata": {
        "id": "ABfz8W_kpvEJ"
      },
      "source": [
        "#train.drop('TEXT', axis=1, inplace=True)\n",
        "#train.head()"
      ],
      "execution_count": null,
      "outputs": []
    },
    {
      "cell_type": "code",
      "metadata": {
        "id": "8OcjPDhKkndo"
      },
      "source": [
        "#train.isnull().sum()"
      ],
      "execution_count": null,
      "outputs": []
    },
    {
      "cell_type": "code",
      "metadata": {
        "id": "lN8IHzBskn-T"
      },
      "source": [
        ""
      ],
      "execution_count": null,
      "outputs": []
    },
    {
      "cell_type": "markdown",
      "metadata": {
        "id": "UtL7gbB5pi8g"
      },
      "source": [
        "# Exporting"
      ]
    },
    {
      "cell_type": "code",
      "metadata": {
        "id": "lRLcdmNLL34E"
      },
      "source": [
        "#train.to_csv('/content/drive/MyDrive/Datasets/Amazon_ML_Challenge/Dataset/train_clean_final.csv', index = False)"
      ],
      "execution_count": null,
      "outputs": []
    },
    {
      "cell_type": "code",
      "metadata": {
        "id": "Au58wDxJL31-"
      },
      "source": [
        ""
      ],
      "execution_count": null,
      "outputs": []
    },
    {
      "cell_type": "code",
      "metadata": {
        "id": "YQQEoZo3L3zB"
      },
      "source": [
        ""
      ],
      "execution_count": null,
      "outputs": []
    },
    {
      "cell_type": "code",
      "metadata": {
        "id": "YgeOP1k6L3vg"
      },
      "source": [
        ""
      ],
      "execution_count": null,
      "outputs": []
    },
    {
      "cell_type": "markdown",
      "metadata": {
        "id": "A8eS1_mYpeO6"
      },
      "source": [
        "# END"
      ]
    }
  ]
}