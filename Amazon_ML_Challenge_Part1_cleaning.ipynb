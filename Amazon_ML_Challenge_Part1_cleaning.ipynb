{
  "nbformat": 4,
  "nbformat_minor": 0,
  "metadata": {
    "colab": {
      "name": "Amazon_ML_Challenge_Part1_cleaning.ipynb",
      "provenance": [],
      "collapsed_sections": [
        "AGiHYicfVr7W",
        "wxPKqIQBcVn_"
      ]
    },
    "kernelspec": {
      "name": "python3",
      "display_name": "Python 3"
    },
    "language_info": {
      "name": "python"
    }
  },
  "cells": [
    {
      "cell_type": "code",
      "metadata": {
        "colab": {
          "base_uri": "https://localhost:8080/"
        },
        "id": "r-DDf_NbGLo2",
        "outputId": "648852a1-13ca-41a7-e153-61422ba7492e"
      },
      "source": [
        "from google.colab import drive\n",
        "drive.mount('/content/drive')"
      ],
      "execution_count": null,
      "outputs": [
        {
          "output_type": "stream",
          "text": [
            "Drive already mounted at /content/drive; to attempt to forcibly remount, call drive.mount(\"/content/drive\", force_remount=True).\n"
          ],
          "name": "stdout"
        }
      ]
    },
    {
      "cell_type": "markdown",
      "metadata": {
        "id": "a_3l8NHfGyU-"
      },
      "source": [
        "#Loading Data"
      ]
    },
    {
      "cell_type": "code",
      "metadata": {
        "id": "m8PHP4H8kOHX"
      },
      "source": [
        "import re\n",
        "import numpy as np\n",
        "import pandas as pd\n",
        "import matplotlib.pyplot as plt\n",
        "import seaborn as sns\n",
        "\n",
        "from tqdm import tqdm\n",
        "from tqdm.notebook import tqdm_notebook\n"
      ],
      "execution_count": null,
      "outputs": []
    },
    {
      "cell_type": "code",
      "metadata": {
        "id": "6T85OwqVS72Q"
      },
      "source": [
        "import nltk\n",
        "from nltk.corpus import stopwords"
      ],
      "execution_count": null,
      "outputs": []
    },
    {
      "cell_type": "code",
      "metadata": {
        "id": "Gzxa26CMkOJx"
      },
      "source": [
        "#train15 = pd.read_csv('/content/drive/MyDrive/Datasets/Amazon_ML_Challenge/Dataset/train.csv', escapechar = \"\\\\\", quoting = 3, nrows=500000)    #skiprows=range(1,500000),\n",
        "#train10 = pd.read_csv('/content/drive/MyDrive/Datasets/Amazon_ML_Challenge/Dataset/train.csv', escapechar = \"\\\\\", quoting = 3, skiprows=range(1,500000), nrows=500000) \n",
        "train15 = pd.read_csv('/content/drive/MyDrive/Datasets/Amazon_ML_Challenge/Dataset/train.csv', escapechar = \"\\\\\", quoting = 3, skiprows=range(1,1000000), nrows=500000) \n",
        "#train20 = pd.read_csv('/content/drive/MyDrive/Datasets/Amazon_ML_Challenge/Dataset/train.csv', escapechar = \"\\\\\", quoting = 3, skiprows=range(1,1500000), nrows=500000) \n",
        "#train25 = pd.read_csv('/content/drive/MyDrive/Datasets/Amazon_ML_Challenge/Dataset/train.csv', escapechar = \"\\\\\", quoting = 3, skiprows=range(1,2000000), nrows=500000) \n",
        "#trainlast = pd.read_csv('/content/drive/MyDrive/Datasets/Amazon_ML_Challenge/Dataset/train.csv', escapechar = \"\\\\\", quoting = 3, skiprows=range(1,2500000), nrows=500000) \n",
        "#test= pd.read_csv('/content/drive/MyDrive/Datasets/Amazon_ML_Challenge/train.csv', escapechar = \"\\\\\",quoting = 3)\n",
        "\n",
        "#sample_submission = pd.read_csv('/content/drive/MyDrive/Datasets/Amazon_ML_Challenge/dataset/sample_submission.csv')"
      ],
      "execution_count": null,
      "outputs": []
    },
    {
      "cell_type": "code",
      "metadata": {
        "colab": {
          "base_uri": "https://localhost:8080/"
        },
        "id": "yaJaV92xLsVK",
        "outputId": "d666fc70-a84e-4942-e88e-fcfe18628511"
      },
      "source": [
        "train15.info()"
      ],
      "execution_count": null,
      "outputs": [
        {
          "output_type": "stream",
          "text": [
            "<class 'pandas.core.frame.DataFrame'>\n",
            "RangeIndex: 500000 entries, 0 to 499999\n",
            "Data columns (total 5 columns):\n",
            " #   Column          Non-Null Count   Dtype \n",
            "---  ------          --------------   ----- \n",
            " 0   TITLE           499990 non-null  object\n",
            " 1   DESCRIPTION     375114 non-null  object\n",
            " 2   BULLET_POINTS   471124 non-null  object\n",
            " 3   BRAND           490083 non-null  object\n",
            " 4   BROWSE_NODE_ID  500000 non-null  int64 \n",
            "dtypes: int64(1), object(4)\n",
            "memory usage: 19.1+ MB\n"
          ],
          "name": "stdout"
        }
      ]
    },
    {
      "cell_type": "markdown",
      "metadata": {
        "id": "yyNRVoFbGxkX"
      },
      "source": [
        "#Analyzing and cleaning"
      ]
    },
    {
      "cell_type": "markdown",
      "metadata": {
        "id": "ERYwXiePSleP"
      },
      "source": [
        "##Loading Data"
      ]
    },
    {
      "cell_type": "code",
      "metadata": {
        "colab": {
          "base_uri": "https://localhost:8080/",
          "height": 142
        },
        "id": "hkr9cOlQkOPY",
        "outputId": "9d774e92-f760-407d-90c6-8d1bc0fe40c3"
      },
      "source": [
        "train15.head(3)"
      ],
      "execution_count": null,
      "outputs": [
        {
          "output_type": "execute_result",
          "data": {
            "text/html": [
              "<div>\n",
              "<style scoped>\n",
              "    .dataframe tbody tr th:only-of-type {\n",
              "        vertical-align: middle;\n",
              "    }\n",
              "\n",
              "    .dataframe tbody tr th {\n",
              "        vertical-align: top;\n",
              "    }\n",
              "\n",
              "    .dataframe thead th {\n",
              "        text-align: right;\n",
              "    }\n",
              "</style>\n",
              "<table border=\"1\" class=\"dataframe\">\n",
              "  <thead>\n",
              "    <tr style=\"text-align: right;\">\n",
              "      <th></th>\n",
              "      <th>TITLE</th>\n",
              "      <th>DESCRIPTION</th>\n",
              "      <th>BULLET_POINTS</th>\n",
              "      <th>BRAND</th>\n",
              "      <th>BROWSE_NODE_ID</th>\n",
              "    </tr>\n",
              "  </thead>\n",
              "  <tbody>\n",
              "    <tr>\n",
              "      <th>0</th>\n",
              "      <td>Dogitos First Meow Healthy Cat Treats 40G (Chi...</td>\n",
              "      <td>Dogitos First Meow is a customized nutrition s...</td>\n",
              "      <td>[This contains essential nutrients so that the...</td>\n",
              "      <td>Dogitos</td>\n",
              "      <td>17686</td>\n",
              "    </tr>\n",
              "    <tr>\n",
              "      <th>1</th>\n",
              "      <td>Phoenix Roasted Makhana Indian Pudina &amp; Dhania...</td>\n",
              "      <td>&lt;p&gt;Lotus Seeds or Foxnuts, popularly also know...</td>\n",
              "      <td>[Quantity: 100 Gms.,Flavor: Indian Pudina &amp; Dh...</td>\n",
              "      <td>Phoenix</td>\n",
              "      <td>32941</td>\n",
              "    </tr>\n",
              "    <tr>\n",
              "      <th>2</th>\n",
              "      <td>Bigbanana Men's Regular Fit Polo (Singleton,Wh...</td>\n",
              "      <td>White and Blue striped T-shirt, has a polo col...</td>\n",
              "      <td>[Polo T-Shirt in Super Combed Cotton,Striped P...</td>\n",
              "      <td>Bigbanana</td>\n",
              "      <td>1213</td>\n",
              "    </tr>\n",
              "  </tbody>\n",
              "</table>\n",
              "</div>"
            ],
            "text/plain": [
              "                                               TITLE  ... BROWSE_NODE_ID\n",
              "0  Dogitos First Meow Healthy Cat Treats 40G (Chi...  ...          17686\n",
              "1  Phoenix Roasted Makhana Indian Pudina & Dhania...  ...          32941\n",
              "2  Bigbanana Men's Regular Fit Polo (Singleton,Wh...  ...           1213\n",
              "\n",
              "[3 rows x 5 columns]"
            ]
          },
          "metadata": {
            "tags": []
          },
          "execution_count": 6
        }
      ]
    },
    {
      "cell_type": "code",
      "metadata": {
        "colab": {
          "base_uri": "https://localhost:8080/",
          "height": 550
        },
        "id": "jY7tO7XqkORb",
        "outputId": "18e08a9d-b713-41c8-a405-ee8eb8cf8b4c"
      },
      "source": [
        "'''for name,df in zip(names,data):\n",
        "  print(name,':')\n",
        "  display(df.info())\n",
        "  print()'''"
      ],
      "execution_count": null,
      "outputs": [
        {
          "output_type": "stream",
          "text": [
            "train :\n",
            "<class 'pandas.core.frame.DataFrame'>\n",
            "RangeIndex: 2903024 entries, 0 to 2903023\n",
            "Data columns (total 5 columns):\n",
            " #   Column          Dtype \n",
            "---  ------          ----- \n",
            " 0   TITLE           object\n",
            " 1   DESCRIPTION     object\n",
            " 2   BULLET_POINTS   object\n",
            " 3   BRAND           object\n",
            " 4   BROWSE_NODE_ID  int64 \n",
            "dtypes: int64(1), object(4)\n",
            "memory usage: 110.7+ MB\n"
          ],
          "name": "stdout"
        },
        {
          "output_type": "display_data",
          "data": {
            "text/plain": [
              "None"
            ]
          },
          "metadata": {
            "tags": []
          }
        },
        {
          "output_type": "stream",
          "text": [
            "\n",
            "test :\n",
            "<class 'pandas.core.frame.DataFrame'>\n",
            "RangeIndex: 110775 entries, 0 to 110774\n",
            "Data columns (total 5 columns):\n",
            " #   Column         Non-Null Count   Dtype \n",
            "---  ------         --------------   ----- \n",
            " 0   PRODUCT_ID     110775 non-null  int64 \n",
            " 1   TITLE          110768 non-null  object\n",
            " 2   DESCRIPTION    100306 non-null  object\n",
            " 3   BULLET_POINTS  103989 non-null  object\n",
            " 4   BRAND          108345 non-null  object\n",
            "dtypes: int64(1), object(4)\n",
            "memory usage: 4.2+ MB\n"
          ],
          "name": "stdout"
        },
        {
          "output_type": "display_data",
          "data": {
            "text/plain": [
              "None"
            ]
          },
          "metadata": {
            "tags": []
          }
        },
        {
          "output_type": "stream",
          "text": [
            "\n"
          ],
          "name": "stdout"
        }
      ]
    },
    {
      "cell_type": "markdown",
      "metadata": {
        "id": "f7SL_f6NJTLa"
      },
      "source": [
        "## Handling null values"
      ]
    },
    {
      "cell_type": "code",
      "metadata": {
        "colab": {
          "base_uri": "https://localhost:8080/"
        },
        "id": "ajpbsuu5LN18",
        "outputId": "fc36235c-d721-46e7-f81e-080333e92318"
      },
      "source": [
        "train15.isnull().sum()"
      ],
      "execution_count": null,
      "outputs": [
        {
          "output_type": "execute_result",
          "data": {
            "text/plain": [
              "TITLE                 10\n",
              "DESCRIPTION       124886\n",
              "BULLET_POINTS      28876\n",
              "BRAND               9917\n",
              "BROWSE_NODE_ID         0\n",
              "dtype: int64"
            ]
          },
          "metadata": {
            "tags": []
          },
          "execution_count": 7
        }
      ]
    },
    {
      "cell_type": "code",
      "metadata": {
        "id": "rqjQbLPnpBeN"
      },
      "source": [
        "train15 = train15.fillna(' ')"
      ],
      "execution_count": null,
      "outputs": []
    },
    {
      "cell_type": "code",
      "metadata": {
        "id": "0L8Xax3J0geh"
      },
      "source": [
        "#train = train.fillna('')"
      ],
      "execution_count": null,
      "outputs": []
    },
    {
      "cell_type": "markdown",
      "metadata": {
        "id": "M_ZqLqduJWNS"
      },
      "source": [
        "##Handling duplicates"
      ]
    },
    {
      "cell_type": "code",
      "metadata": {
        "colab": {
          "base_uri": "https://localhost:8080/",
          "height": 538
        },
        "id": "lRPFWfBYrW6c",
        "outputId": "31f5a41c-2c90-48ef-96b0-b58445e0b3c4"
      },
      "source": [
        "train15[train15.duplicated()]"
      ],
      "execution_count": null,
      "outputs": [
        {
          "output_type": "execute_result",
          "data": {
            "text/html": [
              "<div>\n",
              "<style scoped>\n",
              "    .dataframe tbody tr th:only-of-type {\n",
              "        vertical-align: middle;\n",
              "    }\n",
              "\n",
              "    .dataframe tbody tr th {\n",
              "        vertical-align: top;\n",
              "    }\n",
              "\n",
              "    .dataframe thead th {\n",
              "        text-align: right;\n",
              "    }\n",
              "</style>\n",
              "<table border=\"1\" class=\"dataframe\">\n",
              "  <thead>\n",
              "    <tr style=\"text-align: right;\">\n",
              "      <th></th>\n",
              "      <th>TITLE</th>\n",
              "      <th>DESCRIPTION</th>\n",
              "      <th>BULLET_POINTS</th>\n",
              "      <th>BRAND</th>\n",
              "      <th>BROWSE_NODE_ID</th>\n",
              "    </tr>\n",
              "  </thead>\n",
              "  <tbody>\n",
              "    <tr>\n",
              "      <th>491</th>\n",
              "      <td>GENDER STREE Women Kurta Palazzo Set</td>\n",
              "      <td>Latest Style and Trendy Kurta Palazzo Set from...</td>\n",
              "      <td>[Style - Kurta Palazzo Set, Gold Print,Fabric ...</td>\n",
              "      <td>GENDER STREE</td>\n",
              "      <td>1486</td>\n",
              "    </tr>\n",
              "    <tr>\n",
              "      <th>897</th>\n",
              "      <td>Boy's &amp; Girl's Printed Cotton Blend T Shirt  (...</td>\n",
              "      <td>PRIYA Cotton Graphic Printed Half Sleeve carto...</td>\n",
              "      <td>[Cotton blend fabric The printing of this t-sh...</td>\n",
              "      <td>Generic</td>\n",
              "      <td>1003</td>\n",
              "    </tr>\n",
              "    <tr>\n",
              "      <th>1931</th>\n",
              "      <td>savii Creation traditional look Cotton un Stit...</td>\n",
              "      <td>This salwar suit dress material with dupatta, ...</td>\n",
              "      <td>[ITS COME WITH 2.5 METER SUIT PIECE 2.5 METER ...</td>\n",
              "      <td>SAVII</td>\n",
              "      <td>465</td>\n",
              "    </tr>\n",
              "    <tr>\n",
              "      <th>6622</th>\n",
              "      <td>Womens Trendz Handmade Silver Plated Anklet/Gh...</td>\n",
              "      <td>Self Design, Partywear, Classy And Delicate De...</td>\n",
              "      <td>[Stylish Antique Silver Plated Anklet (1 Pair)...</td>\n",
              "      <td>Womens Trendz</td>\n",
              "      <td>1149</td>\n",
              "    </tr>\n",
              "    <tr>\n",
              "      <th>9708</th>\n",
              "      <td>Adidas Men's Running Shoes</td>\n",
              "      <td></td>\n",
              "      <td>[Material Type: Mesh,Lifestyle: Sports,Closure...</td>\n",
              "      <td>Adidas</td>\n",
              "      <td>701</td>\n",
              "    </tr>\n",
              "    <tr>\n",
              "      <th>...</th>\n",
              "      <td>...</td>\n",
              "      <td>...</td>\n",
              "      <td>...</td>\n",
              "      <td>...</td>\n",
              "      <td>...</td>\n",
              "    </tr>\n",
              "    <tr>\n",
              "      <th>499706</th>\n",
              "      <td>Soch Women's Straight Cotton Kurta</td>\n",
              "      <td></td>\n",
              "      <td>[Material: Cotton with three quarter sleeve,St...</td>\n",
              "      <td>Soch</td>\n",
              "      <td>1251</td>\n",
              "    </tr>\n",
              "    <tr>\n",
              "      <th>499719</th>\n",
              "      <td>Fadsho Designer Case for Lava Z90/Back Cover f...</td>\n",
              "      <td>Cases are designed in such a way that they per...</td>\n",
              "      <td>[Silicon Cases with Gloss Finish printing,Sili...</td>\n",
              "      <td>FADSHO</td>\n",
              "      <td>1045</td>\n",
              "    </tr>\n",
              "    <tr>\n",
              "      <th>499794</th>\n",
              "      <td>Peter England Navy Shirt</td>\n",
              "      <td></td>\n",
              "      <td>[Color : Navy,Material : 100% Cotton,Fit : Sli...</td>\n",
              "      <td>Peter England</td>\n",
              "      <td>1024</td>\n",
              "    </tr>\n",
              "    <tr>\n",
              "      <th>499864</th>\n",
              "      <td>KumkumArts Harry Potter Poster 12 x 18 Inch, H...</td>\n",
              "      <td>Kumkum Arts HD Posters Are High Quality HD Res...</td>\n",
              "      <td>[HD Poster,Beautifully designed posters inspir...</td>\n",
              "      <td>Kumkum Arts</td>\n",
              "      <td>413</td>\n",
              "    </tr>\n",
              "    <tr>\n",
              "      <th>499890</th>\n",
              "      <td>XE Looks Men's Black Patent Leather Lace-up Co...</td>\n",
              "      <td>&lt;b&gt;XE Looks present an exclusive pair of Corpo...</td>\n",
              "      <td>[Material Composition:- The raw material of th...</td>\n",
              "      <td>XE Looks</td>\n",
              "      <td>1409</td>\n",
              "    </tr>\n",
              "  </tbody>\n",
              "</table>\n",
              "<p>5958 rows × 5 columns</p>\n",
              "</div>"
            ],
            "text/plain": [
              "                                                    TITLE  ... BROWSE_NODE_ID\n",
              "491                  GENDER STREE Women Kurta Palazzo Set  ...           1486\n",
              "897     Boy's & Girl's Printed Cotton Blend T Shirt  (...  ...           1003\n",
              "1931    savii Creation traditional look Cotton un Stit...  ...            465\n",
              "6622    Womens Trendz Handmade Silver Plated Anklet/Gh...  ...           1149\n",
              "9708                           Adidas Men's Running Shoes  ...            701\n",
              "...                                                   ...  ...            ...\n",
              "499706                 Soch Women's Straight Cotton Kurta  ...           1251\n",
              "499719  Fadsho Designer Case for Lava Z90/Back Cover f...  ...           1045\n",
              "499794                           Peter England Navy Shirt  ...           1024\n",
              "499864  KumkumArts Harry Potter Poster 12 x 18 Inch, H...  ...            413\n",
              "499890  XE Looks Men's Black Patent Leather Lace-up Co...  ...           1409\n",
              "\n",
              "[5958 rows x 5 columns]"
            ]
          },
          "metadata": {
            "tags": []
          },
          "execution_count": 9
        }
      ]
    },
    {
      "cell_type": "code",
      "metadata": {
        "id": "5BBoWF2SInbN"
      },
      "source": [
        "train15.drop_duplicates(keep = 'first', inplace = True)"
      ],
      "execution_count": null,
      "outputs": []
    },
    {
      "cell_type": "code",
      "metadata": {
        "id": "63WihEeCsRw0",
        "colab": {
          "base_uri": "https://localhost:8080/"
        },
        "outputId": "c61e8ece-ab8a-4e0e-9ede-e726d6c7151a"
      },
      "source": [
        "train15.shape"
      ],
      "execution_count": null,
      "outputs": [
        {
          "output_type": "execute_result",
          "data": {
            "text/plain": [
              "(494042, 5)"
            ]
          },
          "metadata": {
            "tags": []
          },
          "execution_count": 11
        }
      ]
    },
    {
      "cell_type": "markdown",
      "metadata": {
        "id": "AGiHYicfVr7W"
      },
      "source": [
        "##Visualizing data"
      ]
    },
    {
      "cell_type": "code",
      "metadata": {
        "colab": {
          "base_uri": "https://localhost:8080/"
        },
        "id": "p8dTCldmVvKv",
        "outputId": "4038ae6e-85c6-48df-ed87-48d6e613e393"
      },
      "source": [
        "#train.head(3)"
      ],
      "execution_count": null,
      "outputs": [
        {
          "output_type": "execute_result",
          "data": {
            "text/html": [
              "<div>\n",
              "<style scoped>\n",
              "    .dataframe tbody tr th:only-of-type {\n",
              "        vertical-align: middle;\n",
              "    }\n",
              "\n",
              "    .dataframe tbody tr th {\n",
              "        vertical-align: top;\n",
              "    }\n",
              "\n",
              "    .dataframe thead th {\n",
              "        text-align: right;\n",
              "    }\n",
              "</style>\n",
              "<table border=\"1\" class=\"dataframe\">\n",
              "  <thead>\n",
              "    <tr style=\"text-align: right;\">\n",
              "      <th></th>\n",
              "      <th>TITLE</th>\n",
              "      <th>DESCRIPTION</th>\n",
              "      <th>BULLET_POINTS</th>\n",
              "      <th>BRAND</th>\n",
              "      <th>BROWSE_NODE_ID</th>\n",
              "    </tr>\n",
              "  </thead>\n",
              "  <tbody>\n",
              "    <tr>\n",
              "      <th>0</th>\n",
              "      <td>Pete The Cat Bedtime Blues Doll, 14.5 Inch</td>\n",
              "      <td>Pete the Cat is the coolest, most popular cat ...</td>\n",
              "      <td>[Pete the Cat Bedtime Blues plush doll,Based o...</td>\n",
              "      <td>MerryMakers</td>\n",
              "      <td>0</td>\n",
              "    </tr>\n",
              "    <tr>\n",
              "      <th>1</th>\n",
              "      <td>The New Yorker NYHM014 Refrigerator Magnet, 2 ...</td>\n",
              "      <td>The New Yorker Handsome Cello Wrapped Hard Mag...</td>\n",
              "      <td>[Cat In A Tea Cup by New Yorker cover artist G...</td>\n",
              "      <td>The New Yorker</td>\n",
              "      <td>1</td>\n",
              "    </tr>\n",
              "    <tr>\n",
              "      <th>2</th>\n",
              "      <td>The Ultimate Self-Sufficiency Handbook: A Comp...</td>\n",
              "      <td></td>\n",
              "      <td>Skyhorse Publishing</td>\n",
              "      <td>imusti</td>\n",
              "      <td>2</td>\n",
              "    </tr>\n",
              "  </tbody>\n",
              "</table>\n",
              "</div>"
            ],
            "text/plain": [
              "                                               TITLE  ... BROWSE_NODE_ID\n",
              "0         Pete The Cat Bedtime Blues Doll, 14.5 Inch  ...              0\n",
              "1  The New Yorker NYHM014 Refrigerator Magnet, 2 ...  ...              1\n",
              "2  The Ultimate Self-Sufficiency Handbook: A Comp...  ...              2\n",
              "\n",
              "[3 rows x 5 columns]"
            ]
          },
          "metadata": {
            "tags": []
          },
          "execution_count": 16
        }
      ]
    },
    {
      "cell_type": "code",
      "metadata": {
        "colab": {
          "base_uri": "https://localhost:8080/"
        },
        "id": "YKAZmTWZV1QC",
        "outputId": "535663c4-6e75-4d41-8ec6-d8a8d6222c63"
      },
      "source": [
        "#nodeid_distribution = (train['BROWSE_NODE_ID'].value_counts()/len(train['BROWSE_NODE_ID']))*100\n",
        "#nodeid_distribution"
      ],
      "execution_count": null,
      "outputs": [
        {
          "output_type": "execute_result",
          "data": {
            "text/plain": [
              "1045       6.884774\n",
              "5          2.365386\n",
              "1251       1.769033\n",
              "1052       1.553830\n",
              "4          1.214444\n",
              "             ...   \n",
              "2064271    0.000036\n",
              "196697     0.000036\n",
              "1602927    0.000036\n",
              "2586763    0.000036\n",
              "2153849    0.000036\n",
              "Name: BROWSE_NODE_ID, Length: 9919, dtype: float64"
            ]
          },
          "metadata": {
            "tags": []
          },
          "execution_count": 17
        }
      ]
    },
    {
      "cell_type": "code",
      "metadata": {
        "colab": {
          "base_uri": "https://localhost:8080/"
        },
        "id": "LIN6ITXYXGC4",
        "outputId": "75482a70-bb08-409e-ce4e-593f2e5361ab"
      },
      "source": [
        "#cumsum = np.cumsum(nodeid_distribution.values)\n",
        "#cumsum"
      ],
      "execution_count": null,
      "outputs": [
        {
          "output_type": "execute_result",
          "data": {
            "text/plain": [
              "array([  6.88477368,   9.25015973,  11.01919308, ...,  99.99992861,\n",
              "        99.99996431, 100.        ])"
            ]
          },
          "metadata": {
            "tags": []
          },
          "execution_count": 18
        }
      ]
    },
    {
      "cell_type": "code",
      "metadata": {
        "id": "KtRpyoQgZzZm"
      },
      "source": [
        "#cumsum_index = list(range(0,len(cumsum)))"
      ],
      "execution_count": null,
      "outputs": []
    },
    {
      "cell_type": "code",
      "metadata": {
        "colab": {
          "base_uri": "https://localhost:8080/"
        },
        "id": "gDaY4cYebA7h",
        "outputId": "2b5ce6f4-3343-4893-e831-c8497b334afc"
      },
      "source": [
        "#np.argwhere(cumsum>95)[0]"
      ],
      "execution_count": null,
      "outputs": [
        {
          "output_type": "execute_result",
          "data": {
            "text/plain": [
              "array([2791])"
            ]
          },
          "metadata": {
            "tags": []
          },
          "execution_count": 20
        }
      ]
    },
    {
      "cell_type": "code",
      "metadata": {
        "colab": {
          "base_uri": "https://localhost:8080/"
        },
        "id": "F0VhvPTrXF98",
        "outputId": "d08c5735-eb8d-4e84-a95f-c40cb64344ba"
      },
      "source": [
        "'''plt.figure(figsize = (12,6))\n",
        "plt.plot(cumsum_index,cumsum)\n",
        "plt.axhline(95, c='red')\n",
        "plt.axvline(2790, c='red')\n",
        "plt.yticks(np.arange(0,101,5))\n",
        "plt.xticks(np.arange(0,10000,500))\n",
        "plt.show()'''"
      ],
      "execution_count": null,
      "outputs": [
        {
          "output_type": "display_data",
          "data": {
            "image/png": "[encoded data removed]",
            "text/plain": [
              "<Figure size 864x432 with 1 Axes>"
            ]
          },
          "metadata": {
            "tags": [],
            "needs_background": "light"
          }
        }
      ]
    },
    {
      "cell_type": "code",
      "metadata": {
        "id": "Op53-YbEfQnd"
      },
      "source": [
        "#brand_count = train['BRAND'].value_counts()"
      ],
      "execution_count": null,
      "outputs": []
    },
    {
      "cell_type": "code",
      "metadata": {
        "colab": {
          "base_uri": "https://localhost:8080/"
        },
        "id": "6TcLrbi9Xily",
        "outputId": "3786cfbf-01bc-4883-d439-c36b16dde1ae"
      },
      "source": [
        "#brand_distribution = (train['BRAND'].value_counts()/len(train['BRAND']))*100\n",
        "#brand_distribution"
      ],
      "execution_count": null,
      "outputs": [
        {
          "output_type": "execute_result",
          "data": {
            "text/plain": [
              "Generic                      3.683416\n",
              "                             2.022038\n",
              "Puma                         0.489304\n",
              "United Colors of Benetton    0.409847\n",
              "Max                          0.383826\n",
              "                               ...   \n",
              "Klass Home Collection        0.000036\n",
              "I IHAYNER                    0.000036\n",
              "nhgf                         0.000036\n",
              "Orange Toys                  0.000036\n",
              "SENICC                       0.000036\n",
              "Name: BRAND, Length: 258266, dtype: float64"
            ]
          },
          "metadata": {
            "tags": []
          },
          "execution_count": 23
        }
      ]
    },
    {
      "cell_type": "code",
      "metadata": {
        "colab": {
          "base_uri": "https://localhost:8080/"
        },
        "id": "uuK10ik8Xig1",
        "outputId": "bd6dc0a8-33e9-4864-f24e-c70a7f52abcd"
      },
      "source": [
        "#brand_cumsum = np.cumsum(brand_distribution.values)\n",
        "#brand_cumsum"
      ],
      "execution_count": null,
      "outputs": [
        {
          "output_type": "execute_result",
          "data": {
            "text/plain": [
              "array([  3.68341585,   5.70545381,   6.19475786, ...,  99.99992861,\n",
              "        99.9999643 , 100.        ])"
            ]
          },
          "metadata": {
            "tags": []
          },
          "execution_count": 24
        }
      ]
    },
    {
      "cell_type": "code",
      "metadata": {
        "colab": {
          "base_uri": "https://localhost:8080/"
        },
        "id": "gWF7FRDcXid3",
        "outputId": "28a48ebf-001c-4a10-f5f2-c7221c346ae2"
      },
      "source": [
        "#np.argwhere(brand_cumsum>90)[0]"
      ],
      "execution_count": null,
      "outputs": [
        {
          "output_type": "execute_result",
          "data": {
            "text/plain": [
              "array([68652])"
            ]
          },
          "metadata": {
            "tags": []
          },
          "execution_count": 25
        }
      ]
    },
    {
      "cell_type": "code",
      "metadata": {
        "colab": {
          "base_uri": "https://localhost:8080/"
        },
        "id": "vGB8iX7dfRVI",
        "outputId": "57d26186-b979-4dc9-e28e-cc0262278c50"
      },
      "source": [
        "'''plt.figure(figsize = (12,6))\n",
        "plt.plot(brand_cumsum)\n",
        "plt.axhline(90, c='red')\n",
        "plt.axvline(68652, c='red')\n",
        "plt.yticks(np.arange(0,101,5))\n",
        "plt.xticks(np.arange(0,258266,10000), rotation=90)\n",
        "plt.show()'''"
      ],
      "execution_count": null,
      "outputs": [
        {
          "output_type": "display_data",
          "data": {
            "image/png": "[encoded data removed]",
            "text/plain": [
              "<Figure size 864x432 with 1 Axes>"
            ]
          },
          "metadata": {
            "tags": [],
            "needs_background": "light"
          }
        }
      ]
    },
    {
      "cell_type": "code",
      "metadata": {
        "colab": {
          "base_uri": "https://localhost:8080/"
        },
        "id": "sqP8fqfFfRSs",
        "outputId": "3a13f168-5887-45d1-bcc3-9b4872686115"
      },
      "source": [
        "#brand_count[brand_count>50]"
      ],
      "execution_count": null,
      "outputs": [
        {
          "output_type": "execute_result",
          "data": {
            "text/plain": [
              "Generic                      103192\n",
              "                              56648\n",
              "Puma                          13708\n",
              "United Colors of Benetton     11482\n",
              "Max                           10753\n",
              "                              ...  \n",
              "JIVA                             51\n",
              "A-TEX INDIA                      51\n",
              "G-Shock                          51\n",
              "Start Makers                     51\n",
              "Verbier                          51\n",
              "Name: BRAND, Length: 7730, dtype: int64"
            ]
          },
          "metadata": {
            "tags": []
          },
          "execution_count": 27
        }
      ]
    },
    {
      "cell_type": "code",
      "metadata": {
        "id": "3dt6bV_FgSdj"
      },
      "source": [
        ""
      ],
      "execution_count": null,
      "outputs": []
    },
    {
      "cell_type": "code",
      "metadata": {
        "id": "r3mKh-clgSf0"
      },
      "source": [
        ""
      ],
      "execution_count": null,
      "outputs": []
    },
    {
      "cell_type": "code",
      "metadata": {
        "id": "2tfZLT6ggSiS"
      },
      "source": [
        ""
      ],
      "execution_count": null,
      "outputs": []
    },
    {
      "cell_type": "code",
      "metadata": {
        "id": "IQsQBQrZfRQT"
      },
      "source": [
        ""
      ],
      "execution_count": null,
      "outputs": []
    },
    {
      "cell_type": "code",
      "metadata": {
        "id": "owbUnWzRfRN0"
      },
      "source": [
        ""
      ],
      "execution_count": null,
      "outputs": []
    },
    {
      "cell_type": "markdown",
      "metadata": {
        "id": "avKCValxKdtR"
      },
      "source": [
        "## Text Cleaning"
      ]
    },
    {
      "cell_type": "code",
      "metadata": {
        "id": "4bxOjVwWsRuJ",
        "colab": {
          "base_uri": "https://localhost:8080/",
          "height": 142
        },
        "outputId": "2357e25b-5ad6-45ba-88a2-e245dd60e519"
      },
      "source": [
        "train15.head(3)"
      ],
      "execution_count": null,
      "outputs": [
        {
          "output_type": "execute_result",
          "data": {
            "text/html": [
              "<div>\n",
              "<style scoped>\n",
              "    .dataframe tbody tr th:only-of-type {\n",
              "        vertical-align: middle;\n",
              "    }\n",
              "\n",
              "    .dataframe tbody tr th {\n",
              "        vertical-align: top;\n",
              "    }\n",
              "\n",
              "    .dataframe thead th {\n",
              "        text-align: right;\n",
              "    }\n",
              "</style>\n",
              "<table border=\"1\" class=\"dataframe\">\n",
              "  <thead>\n",
              "    <tr style=\"text-align: right;\">\n",
              "      <th></th>\n",
              "      <th>TITLE</th>\n",
              "      <th>DESCRIPTION</th>\n",
              "      <th>BULLET_POINTS</th>\n",
              "      <th>BRAND</th>\n",
              "      <th>BROWSE_NODE_ID</th>\n",
              "    </tr>\n",
              "  </thead>\n",
              "  <tbody>\n",
              "    <tr>\n",
              "      <th>0</th>\n",
              "      <td>Dogitos First Meow Healthy Cat Treats 40G (Chi...</td>\n",
              "      <td>Dogitos First Meow is a customized nutrition s...</td>\n",
              "      <td>[This contains essential nutrients so that the...</td>\n",
              "      <td>Dogitos</td>\n",
              "      <td>17686</td>\n",
              "    </tr>\n",
              "    <tr>\n",
              "      <th>1</th>\n",
              "      <td>Phoenix Roasted Makhana Indian Pudina &amp; Dhania...</td>\n",
              "      <td>&lt;p&gt;Lotus Seeds or Foxnuts, popularly also know...</td>\n",
              "      <td>[Quantity: 100 Gms.,Flavor: Indian Pudina &amp; Dh...</td>\n",
              "      <td>Phoenix</td>\n",
              "      <td>32941</td>\n",
              "    </tr>\n",
              "    <tr>\n",
              "      <th>2</th>\n",
              "      <td>Bigbanana Men's Regular Fit Polo (Singleton,Wh...</td>\n",
              "      <td>White and Blue striped T-shirt, has a polo col...</td>\n",
              "      <td>[Polo T-Shirt in Super Combed Cotton,Striped P...</td>\n",
              "      <td>Bigbanana</td>\n",
              "      <td>1213</td>\n",
              "    </tr>\n",
              "  </tbody>\n",
              "</table>\n",
              "</div>"
            ],
            "text/plain": [
              "                                               TITLE  ... BROWSE_NODE_ID\n",
              "0  Dogitos First Meow Healthy Cat Treats 40G (Chi...  ...          17686\n",
              "1  Phoenix Roasted Makhana Indian Pudina & Dhania...  ...          32941\n",
              "2  Bigbanana Men's Regular Fit Polo (Singleton,Wh...  ...           1213\n",
              "\n",
              "[3 rows x 5 columns]"
            ]
          },
          "metadata": {
            "tags": []
          },
          "execution_count": 12
        }
      ]
    },
    {
      "cell_type": "code",
      "metadata": {
        "id": "GqFCSXToEYHD"
      },
      "source": [
        "train15['TEXT'] = train15['TITLE'] + ' ' + train15['DESCRIPTION'] + ' ' + train15['BULLET_POINTS'] + ' ' + train15['BRAND']\n",
        "#train['TEXT'] = train['TITLE'] + ' ' + train['DESCRIPTION'] + ' ' + train['BULLET_POINTS'] + ' ' + train['BRAND']"
      ],
      "execution_count": null,
      "outputs": []
    },
    {
      "cell_type": "code",
      "metadata": {
        "id": "QkeCBJNiGoyL"
      },
      "source": [
        "train15 = train15.drop(['TITLE', 'DESCRIPTION', 'BULLET_POINTS', 'BRAND'], axis=1)\n",
        "#train = train.drop(['TITLE', 'DESCRIPTION', 'BULLET_POINTS', 'BRAND'], axis=1)"
      ],
      "execution_count": null,
      "outputs": []
    },
    {
      "cell_type": "code",
      "metadata": {
        "colab": {
          "base_uri": "https://localhost:8080/",
          "height": 142
        },
        "id": "NP9gwtdDMe_0",
        "outputId": "8754c000-7ca3-4702-9953-069ac72e9771"
      },
      "source": [
        "train15.head(3)"
      ],
      "execution_count": null,
      "outputs": [
        {
          "output_type": "execute_result",
          "data": {
            "text/html": [
              "<div>\n",
              "<style scoped>\n",
              "    .dataframe tbody tr th:only-of-type {\n",
              "        vertical-align: middle;\n",
              "    }\n",
              "\n",
              "    .dataframe tbody tr th {\n",
              "        vertical-align: top;\n",
              "    }\n",
              "\n",
              "    .dataframe thead th {\n",
              "        text-align: right;\n",
              "    }\n",
              "</style>\n",
              "<table border=\"1\" class=\"dataframe\">\n",
              "  <thead>\n",
              "    <tr style=\"text-align: right;\">\n",
              "      <th></th>\n",
              "      <th>BROWSE_NODE_ID</th>\n",
              "      <th>TEXT</th>\n",
              "    </tr>\n",
              "  </thead>\n",
              "  <tbody>\n",
              "    <tr>\n",
              "      <th>0</th>\n",
              "      <td>17686</td>\n",
              "      <td>Dogitos First Meow Healthy Cat Treats 40G (Chi...</td>\n",
              "    </tr>\n",
              "    <tr>\n",
              "      <th>1</th>\n",
              "      <td>32941</td>\n",
              "      <td>Phoenix Roasted Makhana Indian Pudina &amp; Dhania...</td>\n",
              "    </tr>\n",
              "    <tr>\n",
              "      <th>2</th>\n",
              "      <td>1213</td>\n",
              "      <td>Bigbanana Men's Regular Fit Polo (Singleton,Wh...</td>\n",
              "    </tr>\n",
              "  </tbody>\n",
              "</table>\n",
              "</div>"
            ],
            "text/plain": [
              "   BROWSE_NODE_ID                                               TEXT\n",
              "0           17686  Dogitos First Meow Healthy Cat Treats 40G (Chi...\n",
              "1           32941  Phoenix Roasted Makhana Indian Pudina & Dhania...\n",
              "2            1213  Bigbanana Men's Regular Fit Polo (Singleton,Wh..."
            ]
          },
          "metadata": {
            "tags": []
          },
          "execution_count": 15
        }
      ]
    },
    {
      "cell_type": "markdown",
      "metadata": {
        "id": "5Mm-z1baGxc4"
      },
      "source": [
        "##Nltk"
      ]
    },
    {
      "cell_type": "code",
      "metadata": {
        "colab": {
          "base_uri": "https://localhost:8080/"
        },
        "id": "J7-vdtMFV_HP",
        "outputId": "fa717310-8b80-4a5d-a304-bde3b1ae1eeb"
      },
      "source": [
        "nltk.download('stopwords')\n",
        "stop_words = set(stopwords.words('english'))"
      ],
      "execution_count": null,
      "outputs": [
        {
          "output_type": "stream",
          "text": [
            "[nltk_data] Downloading package stopwords to /root/nltk_data...\n",
            "[nltk_data]   Package stopwords is already up-to-date!\n"
          ],
          "name": "stdout"
        }
      ]
    },
    {
      "cell_type": "code",
      "metadata": {
        "id": "Ayjo0k2iDZaw"
      },
      "source": [
        "# import these modules\n",
        "from nltk.stem import WordNetLemmatizer\n",
        "  \n",
        "lemmatizer = WordNetLemmatizer()"
      ],
      "execution_count": null,
      "outputs": []
    },
    {
      "cell_type": "code",
      "metadata": {
        "colab": {
          "base_uri": "https://localhost:8080/"
        },
        "id": "yx3uCFnsEz3c",
        "outputId": "a4e028fd-b0db-4999-ac11-a00fbb6938da"
      },
      "source": [
        "from nltk import word_tokenize\n",
        "nltk.download('punkt')\n",
        "nltk.download('wordnet')\n",
        "word_tokenize('hi I am')"
      ],
      "execution_count": null,
      "outputs": [
        {
          "output_type": "stream",
          "text": [
            "[nltk_data] Downloading package punkt to /root/nltk_data...\n",
            "[nltk_data]   Package punkt is already up-to-date!\n",
            "[nltk_data] Downloading package wordnet to /root/nltk_data...\n",
            "[nltk_data]   Package wordnet is already up-to-date!\n"
          ],
          "name": "stdout"
        },
        {
          "output_type": "execute_result",
          "data": {
            "text/plain": [
              "['hi', 'I', 'am']"
            ]
          },
          "metadata": {
            "tags": []
          },
          "execution_count": 18
        }
      ]
    },
    {
      "cell_type": "code",
      "metadata": {
        "id": "LZ3MFpMYMteD"
      },
      "source": [
        "def clean(text):\n",
        "\n",
        "  cleanr = re.compile('<[^>]*>')           #html\n",
        "  cleantext = re.sub(cleanr, ' ', text)\n",
        "\n",
        "  cleantext = re.sub(\"[-]\", \" \" , cleantext)\n",
        "\n",
        "  cleantext = re.sub(\"[^A-Za-z ]\", \" \" , cleantext)\n",
        "  cleantext = cleantext.lower()\n",
        "\n",
        "  words = nltk.tokenize.word_tokenize(cleantext)\n",
        "  words_new = [i for i in words if i not in stop_words]\n",
        "\n",
        "  w = [lemmatizer.lemmatize(word) for word in words_new if len(word)>2]\n",
        "\n",
        "  return ' '.join(w)"
      ],
      "execution_count": null,
      "outputs": []
    },
    {
      "cell_type": "code",
      "metadata": {
        "colab": {
          "base_uri": "https://localhost:8080/",
          "height": 35
        },
        "id": "GAI-8CacEeTL",
        "outputId": "2f20c9a4-a4db-4fd2-a7c3-ec68a830ff8e"
      },
      "source": [
        "clean('Pete The Cat Bedtime,virat-kohli Blues Doll, <br> sj </br> 14.5Inch 99brilliance')"
      ],
      "execution_count": null,
      "outputs": [
        {
          "output_type": "execute_result",
          "data": {
            "application/vnd.google.colaboratory.intrinsic+json": {
              "type": "string"
            },
            "text/plain": [
              "'pete cat bedtime virat kohli blue doll inch brilliance'"
            ]
          },
          "metadata": {
            "tags": []
          },
          "execution_count": 20
        }
      ]
    },
    {
      "cell_type": "code",
      "metadata": {
        "id": "STNRT46qM-Tr",
        "colab": {
          "base_uri": "https://localhost:8080/"
        },
        "outputId": "14ffc770-f7ac-4247-c6d7-969e42df55e3"
      },
      "source": [
        "train15['TEXT'] = tqdm(train15['TEXT'].apply(clean))"
      ],
      "execution_count": null,
      "outputs": [
        {
          "output_type": "stream",
          "text": [
            "100%|██████████| 494042/494042 [00:00<00:00, 1934423.64it/s]\n"
          ],
          "name": "stderr"
        }
      ]
    },
    {
      "cell_type": "code",
      "metadata": {
        "id": "NEEFRb5ivJZw"
      },
      "source": [
        "#train['TEXT'] = tqdm_notebook(train['TEXT'].apply(clean))"
      ],
      "execution_count": null,
      "outputs": []
    },
    {
      "cell_type": "code",
      "metadata": {
        "id": "8djstIZUIvxX"
      },
      "source": [
        ""
      ],
      "execution_count": null,
      "outputs": []
    },
    {
      "cell_type": "code",
      "metadata": {
        "id": "ar5OyOyrH30P"
      },
      "source": [
        ""
      ],
      "execution_count": null,
      "outputs": []
    },
    {
      "cell_type": "code",
      "metadata": {
        "id": "fg7_c1CrsXlK",
        "colab": {
          "base_uri": "https://localhost:8080/",
          "height": 142
        },
        "outputId": "2aad7469-abed-40a0-edc5-afa29b280eb8"
      },
      "source": [
        "train15.head(3)"
      ],
      "execution_count": null,
      "outputs": [
        {
          "output_type": "execute_result",
          "data": {
            "text/html": [
              "<div>\n",
              "<style scoped>\n",
              "    .dataframe tbody tr th:only-of-type {\n",
              "        vertical-align: middle;\n",
              "    }\n",
              "\n",
              "    .dataframe tbody tr th {\n",
              "        vertical-align: top;\n",
              "    }\n",
              "\n",
              "    .dataframe thead th {\n",
              "        text-align: right;\n",
              "    }\n",
              "</style>\n",
              "<table border=\"1\" class=\"dataframe\">\n",
              "  <thead>\n",
              "    <tr style=\"text-align: right;\">\n",
              "      <th></th>\n",
              "      <th>BROWSE_NODE_ID</th>\n",
              "      <th>TEXT</th>\n",
              "    </tr>\n",
              "  </thead>\n",
              "  <tbody>\n",
              "    <tr>\n",
              "      <th>0</th>\n",
              "      <td>17686</td>\n",
              "      <td>dogitos first meow healthy cat treat chicken s...</td>\n",
              "    </tr>\n",
              "    <tr>\n",
              "      <th>1</th>\n",
              "      <td>32941</td>\n",
              "      <td>phoenix roasted makhana indian pudina dhania l...</td>\n",
              "    </tr>\n",
              "    <tr>\n",
              "      <th>2</th>\n",
              "      <td>1213</td>\n",
              "      <td>bigbanana men regular fit polo singleton white...</td>\n",
              "    </tr>\n",
              "  </tbody>\n",
              "</table>\n",
              "</div>"
            ],
            "text/plain": [
              "   BROWSE_NODE_ID                                               TEXT\n",
              "0           17686  dogitos first meow healthy cat treat chicken s...\n",
              "1           32941  phoenix roasted makhana indian pudina dhania l...\n",
              "2            1213  bigbanana men regular fit polo singleton white..."
            ]
          },
          "metadata": {
            "tags": []
          },
          "execution_count": 22
        }
      ]
    },
    {
      "cell_type": "code",
      "metadata": {
        "id": "OsnsGBwwYpmw"
      },
      "source": [
        "#train.head(3)"
      ],
      "execution_count": null,
      "outputs": []
    },
    {
      "cell_type": "markdown",
      "metadata": {
        "id": "dzU1Xn9sbDM8"
      },
      "source": [
        "# Making clean CSVs"
      ]
    },
    {
      "cell_type": "code",
      "metadata": {
        "id": "-_B6GSOUbH2-"
      },
      "source": [
        "train15.to_csv('/content/drive/MyDrive/Datasets/Amazon_ML_Challenge/train_clean15L.csv', index = False)\n",
        "#train.to_csv('/content/drive/MyDrive/Datasets/Amazon_ML_Challenge/dataset/train_clean.csv', index = False)"
      ],
      "execution_count": null,
      "outputs": []
    },
    {
      "cell_type": "code",
      "metadata": {
        "id": "bhBOZgZvfBB6"
      },
      "source": [
        "#del(train15)"
      ],
      "execution_count": null,
      "outputs": []
    },
    {
      "cell_type": "markdown",
      "metadata": {
        "id": "wxPKqIQBcVn_"
      },
      "source": [
        "# Loading Clean Data"
      ]
    },
    {
      "cell_type": "code",
      "metadata": {
        "id": "_ONrRAoqZonx"
      },
      "source": [
        "'''train = pd.read_csv('/content/drive/MyDrive/Datasets/Amazon_ML_Challenge/dataset/train_clean.csv')\n",
        "train = pd.read_csv('/content/drive/MyDrive/Datasets/Amazon_ML_Challenge/dataset/train_clean.csv')\n",
        "\n",
        "data = [train, train]\n",
        "names = ['train', 'train']'''"
      ],
      "execution_count": null,
      "outputs": []
    },
    {
      "cell_type": "code",
      "metadata": {
        "colab": {
          "base_uri": "https://localhost:8080/"
        },
        "id": "Marl5FJZcZp8",
        "outputId": "25a4eccf-a91e-4802-8649-c8d8d2499c06"
      },
      "source": [
        "'''for df in data:\n",
        "  print(df.isnull().sum())'''"
      ],
      "execution_count": null,
      "outputs": [
        {
          "output_type": "stream",
          "text": [
            "TITLE                122\n",
            "DESCRIPTION       708134\n",
            "BULLET_POINTS     165024\n",
            "BRAND              63403\n",
            "BROWSE_NODE_ID         0\n",
            "dtype: int64\n",
            "PRODUCT_ID           0\n",
            "TITLE                7\n",
            "DESCRIPTION      10483\n",
            "BULLET_POINTS     6799\n",
            "BRAND             2588\n",
            "dtype: int64\n"
          ],
          "name": "stdout"
        }
      ]
    },
    {
      "cell_type": "code",
      "metadata": {
        "id": "aYUEQmuodEeh"
      },
      "source": [
        "'''train = train.fillna(' ')\n",
        "train = train.fillna(' ')'''"
      ],
      "execution_count": null,
      "outputs": []
    },
    {
      "cell_type": "code",
      "metadata": {
        "colab": {
          "base_uri": "https://localhost:8080/",
          "height": 142
        },
        "id": "dzk2qYUfcBzx",
        "outputId": "e48b30a8-df8f-4c75-d754-9b08cbd5bcdc"
      },
      "source": [
        "'''train.head(3)'''"
      ],
      "execution_count": null,
      "outputs": [
        {
          "output_type": "execute_result",
          "data": {
            "text/html": [
              "<div>\n",
              "<style scoped>\n",
              "    .dataframe tbody tr th:only-of-type {\n",
              "        vertical-align: middle;\n",
              "    }\n",
              "\n",
              "    .dataframe tbody tr th {\n",
              "        vertical-align: top;\n",
              "    }\n",
              "\n",
              "    .dataframe thead th {\n",
              "        text-align: right;\n",
              "    }\n",
              "</style>\n",
              "<table border=\"1\" class=\"dataframe\">\n",
              "  <thead>\n",
              "    <tr style=\"text-align: right;\">\n",
              "      <th></th>\n",
              "      <th>TITLE</th>\n",
              "      <th>DESCRIPTION</th>\n",
              "      <th>BULLET_POINTS</th>\n",
              "      <th>BRAND</th>\n",
              "      <th>BROWSE_NODE_ID</th>\n",
              "    </tr>\n",
              "  </thead>\n",
              "  <tbody>\n",
              "    <tr>\n",
              "      <th>0</th>\n",
              "      <td>pete cat bedtime blues doll inch</td>\n",
              "      <td>pete cat coolest popular cat town new pete the...</td>\n",
              "      <td>pete cat bedtime blues plush dollbased popular...</td>\n",
              "      <td>merrymakers</td>\n",
              "      <td>0</td>\n",
              "    </tr>\n",
              "    <tr>\n",
              "      <th>1</th>\n",
              "      <td>new yorker nyhm refrigerator magnet x</td>\n",
              "      <td>new yorker handsome cello wrapped hard magnet ...</td>\n",
              "      <td>cat tea cup new yorker cover artist gurbuz dog...</td>\n",
              "      <td>new yorker</td>\n",
              "      <td>1</td>\n",
              "    </tr>\n",
              "    <tr>\n",
              "      <th>2</th>\n",
              "      <td>ultimate selfsufficiency handbook complete gui...</td>\n",
              "      <td></td>\n",
              "      <td>skyhorse publishing</td>\n",
              "      <td>imusti</td>\n",
              "      <td>2</td>\n",
              "    </tr>\n",
              "  </tbody>\n",
              "</table>\n",
              "</div>"
            ],
            "text/plain": [
              "                                               TITLE  ... BROWSE_NODE_ID\n",
              "0                   pete cat bedtime blues doll inch  ...              0\n",
              "1              new yorker nyhm refrigerator magnet x  ...              1\n",
              "2  ultimate selfsufficiency handbook complete gui...  ...              2\n",
              "\n",
              "[3 rows x 5 columns]"
            ]
          },
          "metadata": {
            "tags": []
          },
          "execution_count": 45
        }
      ]
    },
    {
      "cell_type": "markdown",
      "metadata": {
        "id": "YovYPOnEVmSo"
      },
      "source": [
        "#END"
      ]
    }
  ]
}